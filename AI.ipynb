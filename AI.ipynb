{
  "cells": [
    {
      "cell_type": "code",
      "execution_count": 1,
      "metadata": {
        "colab": {
          "base_uri": "https://localhost:8080/"
        },
        "id": "Ahde0lqdDolw",
        "outputId": "7b49aa06-99f7-4415-eb34-5fe3f734f71d"
      },
      "outputs": [
        {
          "name": "stdout",
          "output_type": "stream",
          "text": [
            "Complete import\n"
          ]
        }
      ],
      "source": [
        "import pandas as pd\n",
        "import numpy as np\n",
        "\n",
        "from sklearn.neighbors import KNeighborsRegressor\n",
        "from sklearn.metrics import mean_squared_error\n",
        "from sklearn.model_selection import cross_val_score, KFold\n",
        "import seaborn as sns\n",
        "import matplotlib.pyplot as plt\n",
        "import statsmodels.api as sm\n",
        "%matplotlib inline\n",
        "print(\"Complete import\")"
      ]
    },
    {
      "cell_type": "markdown",
      "metadata": {
        "id": "GnUZ7shSFRt2"
      },
      "source": [
        "Load data"
      ]
    },
    {
      "cell_type": "code",
      "execution_count": 2,
      "metadata": {
        "colab": {
          "base_uri": "https://localhost:8080/",
          "height": 223
        },
        "id": "fyFuHtEGEmA6",
        "outputId": "efc0b1d4-2c0f-4b6e-9d08-be9d6a9e4edb"
      },
      "outputs": [
        {
          "name": "stdout",
          "output_type": "stream",
          "text": [
            "(1339, 7)\n"
          ]
        },
        {
          "data": {
            "text/html": [
              "<div>\n",
              "<style scoped>\n",
              "    .dataframe tbody tr th:only-of-type {\n",
              "        vertical-align: middle;\n",
              "    }\n",
              "\n",
              "    .dataframe tbody tr th {\n",
              "        vertical-align: top;\n",
              "    }\n",
              "\n",
              "    .dataframe thead th {\n",
              "        text-align: right;\n",
              "    }\n",
              "</style>\n",
              "<table border=\"1\" class=\"dataframe\">\n",
              "  <thead>\n",
              "    <tr style=\"text-align: right;\">\n",
              "      <th></th>\n",
              "      <th>age</th>\n",
              "      <th>sex</th>\n",
              "      <th>bmi</th>\n",
              "      <th>children</th>\n",
              "      <th>smoker</th>\n",
              "      <th>region</th>\n",
              "      <th>expenses</th>\n",
              "    </tr>\n",
              "  </thead>\n",
              "  <tbody>\n",
              "    <tr>\n",
              "      <th>0</th>\n",
              "      <td>age</td>\n",
              "      <td>sex</td>\n",
              "      <td>bmi</td>\n",
              "      <td>children</td>\n",
              "      <td>smoker</td>\n",
              "      <td>region</td>\n",
              "      <td>expenses</td>\n",
              "    </tr>\n",
              "    <tr>\n",
              "      <th>1</th>\n",
              "      <td>19</td>\n",
              "      <td>female</td>\n",
              "      <td>27.9</td>\n",
              "      <td>0</td>\n",
              "      <td>yes</td>\n",
              "      <td>southwest</td>\n",
              "      <td>16884.92</td>\n",
              "    </tr>\n",
              "    <tr>\n",
              "      <th>2</th>\n",
              "      <td>18</td>\n",
              "      <td>male</td>\n",
              "      <td>33.8</td>\n",
              "      <td>1</td>\n",
              "      <td>no</td>\n",
              "      <td>southeast</td>\n",
              "      <td>1725.55</td>\n",
              "    </tr>\n",
              "    <tr>\n",
              "      <th>3</th>\n",
              "      <td>28</td>\n",
              "      <td>male</td>\n",
              "      <td>33.0</td>\n",
              "      <td>3</td>\n",
              "      <td>no</td>\n",
              "      <td>southeast</td>\n",
              "      <td>4449.46</td>\n",
              "    </tr>\n",
              "    <tr>\n",
              "      <th>4</th>\n",
              "      <td>33</td>\n",
              "      <td>male</td>\n",
              "      <td>22.7</td>\n",
              "      <td>0</td>\n",
              "      <td>no</td>\n",
              "      <td>northwest</td>\n",
              "      <td>21984.47</td>\n",
              "    </tr>\n",
              "  </tbody>\n",
              "</table>\n",
              "</div>"
            ],
            "text/plain": [
              "   age     sex   bmi  children  smoker     region  expenses\n",
              "0  age     sex   bmi  children  smoker     region  expenses\n",
              "1   19  female  27.9         0     yes  southwest  16884.92\n",
              "2   18    male  33.8         1      no  southeast   1725.55\n",
              "3   28    male  33.0         3      no  southeast   4449.46\n",
              "4   33    male  22.7         0      no  northwest  21984.47"
            ]
          },
          "execution_count": 2,
          "metadata": {},
          "output_type": "execute_result"
        }
      ],
      "source": [
        "cols = ['age', 'sex', 'bmi', 'children', 'smoker', 'region', 'expenses']\n",
        "insurance = pd.read_csv('./Data/insurance.csv', names=cols)\n",
        "print(insurance.shape)\n",
        "insurance.head()"
      ]
    },
    {
      "cell_type": "code",
      "execution_count": 3,
      "metadata": {
        "colab": {
          "base_uri": "https://localhost:8080/"
        },
        "id": "fwrqZ9HiFW9D",
        "outputId": "89d08c5f-6481-4b2d-d858-fea54a63ca10"
      },
      "outputs": [
        {
          "name": "stdout",
          "output_type": "stream",
          "text": [
            "['0' '1' '10043.25' ... 'southeast' 'southwest' 'yes']\n"
          ]
        }
      ],
      "source": [
        "insurance.describe()\n",
        "insurance.dtypes\n",
        "print(np.unique(insurance.values))"
      ]
    },
    {
      "cell_type": "code",
      "execution_count": 4,
      "metadata": {
        "colab": {
          "base_uri": "https://localhost:8080/",
          "height": 206
        },
        "id": "8Dtv33H_IiLq",
        "outputId": "61f5242a-537b-4ac5-93ca-ba8fd02b278e"
      },
      "outputs": [
        {
          "data": {
            "text/html": [
              "<div>\n",
              "<style scoped>\n",
              "    .dataframe tbody tr th:only-of-type {\n",
              "        vertical-align: middle;\n",
              "    }\n",
              "\n",
              "    .dataframe tbody tr th {\n",
              "        vertical-align: top;\n",
              "    }\n",
              "\n",
              "    .dataframe thead th {\n",
              "        text-align: right;\n",
              "    }\n",
              "</style>\n",
              "<table border=\"1\" class=\"dataframe\">\n",
              "  <thead>\n",
              "    <tr style=\"text-align: right;\">\n",
              "      <th></th>\n",
              "      <th>age</th>\n",
              "      <th>sex</th>\n",
              "      <th>bmi</th>\n",
              "      <th>children</th>\n",
              "      <th>smoker</th>\n",
              "      <th>region</th>\n",
              "      <th>expenses</th>\n",
              "    </tr>\n",
              "  </thead>\n",
              "  <tbody>\n",
              "    <tr>\n",
              "      <th>0</th>\n",
              "      <td>age</td>\n",
              "      <td>sex</td>\n",
              "      <td>bmi</td>\n",
              "      <td>children</td>\n",
              "      <td>smoker</td>\n",
              "      <td>region</td>\n",
              "      <td>expenses</td>\n",
              "    </tr>\n",
              "    <tr>\n",
              "      <th>1</th>\n",
              "      <td>19</td>\n",
              "      <td>0</td>\n",
              "      <td>27.9</td>\n",
              "      <td>0</td>\n",
              "      <td>1</td>\n",
              "      <td>2</td>\n",
              "      <td>16884.92</td>\n",
              "    </tr>\n",
              "    <tr>\n",
              "      <th>2</th>\n",
              "      <td>18</td>\n",
              "      <td>1</td>\n",
              "      <td>33.8</td>\n",
              "      <td>1</td>\n",
              "      <td>0</td>\n",
              "      <td>1</td>\n",
              "      <td>1725.55</td>\n",
              "    </tr>\n",
              "    <tr>\n",
              "      <th>3</th>\n",
              "      <td>28</td>\n",
              "      <td>1</td>\n",
              "      <td>33.0</td>\n",
              "      <td>3</td>\n",
              "      <td>0</td>\n",
              "      <td>1</td>\n",
              "      <td>4449.46</td>\n",
              "    </tr>\n",
              "    <tr>\n",
              "      <th>4</th>\n",
              "      <td>33</td>\n",
              "      <td>1</td>\n",
              "      <td>22.7</td>\n",
              "      <td>0</td>\n",
              "      <td>0</td>\n",
              "      <td>3</td>\n",
              "      <td>21984.47</td>\n",
              "    </tr>\n",
              "  </tbody>\n",
              "</table>\n",
              "</div>"
            ],
            "text/plain": [
              "   age  sex   bmi  children  smoker  region  expenses\n",
              "0  age  sex   bmi  children  smoker  region  expenses\n",
              "1   19    0  27.9         0       1       2  16884.92\n",
              "2   18    1  33.8         1       0       1   1725.55\n",
              "3   28    1  33.0         3       0       1   4449.46\n",
              "4   33    1  22.7         0       0       3  21984.47"
            ]
          },
          "execution_count": 4,
          "metadata": {},
          "output_type": "execute_result"
        }
      ],
      "source": [
        "from sklearn import preprocessing\n",
        "cleanup_nums = {\"sex\":     {\"female\": 0, \"male\": 1},\n",
        "                \"smoker\": {\"no\": 0, \"yes\": 1},\n",
        "                \"region\": {'northeast': 0, 'southeast': 1,'southwest' : 2, 'northwest': 3}}\n",
        "insurance = insurance.replace(cleanup_nums)\n",
        "insurance.head()\n",
        "\n",
        "              "
      ]
    },
    {
      "cell_type": "code",
      "execution_count": 5,
      "metadata": {
        "id": "KDMmDoSOLMSv"
      },
      "outputs": [],
      "source": [
        "insurance[\"sex\"] = pd.to_numeric(insurance.sex, errors='coerce')\n",
        "insurance[\"age\"] = pd.to_numeric(insurance.age, errors='coerce')\n",
        "insurance[\"bmi\"] = pd.to_numeric(insurance.bmi, errors='coerce')\n",
        "insurance[\"children\"] = pd.to_numeric(insurance.children, errors='coerce')\n",
        "insurance[\"smoker\"] = pd.to_numeric(insurance.smoker, errors='coerce')\n",
        "insurance[\"region\"] = pd.to_numeric(insurance.region, errors='coerce')\n",
        "insurance[\"expenses\"] = pd.to_numeric(insurance.expenses, errors='coerce')"
      ]
    },
    {
      "cell_type": "code",
      "execution_count": 6,
      "metadata": {
        "colab": {
          "base_uri": "https://localhost:8080/"
        },
        "id": "OHaViHjHSLLE",
        "outputId": "0dd59e27-90ba-4c69-b492-0a22527e578c"
      },
      "outputs": [
        {
          "data": {
            "text/plain": [
              "(1338, 7)"
            ]
          },
          "execution_count": 6,
          "metadata": {},
          "output_type": "execute_result"
        }
      ],
      "source": [
        "insurance = insurance.dropna()\n",
        "insurance.shape"
      ]
    },
    {
      "cell_type": "code",
      "execution_count": 8,
      "metadata": {
        "colab": {
          "base_uri": "https://localhost:8080/",
          "height": 299
        },
        "id": "IO0CT9sY9ot0",
        "outputId": "289a8428-7274-4d76-9eb3-bda99dbb5d90"
      },
      "outputs": [
        {
          "data": {
            "text/plain": [
              "<AxesSubplot:xlabel='bmi', ylabel='expenses'>"
            ]
          },
          "execution_count": 8,
          "metadata": {},
          "output_type": "execute_result"
        },
        {
          "data": {
            "image/png": "[encoded data removed]",
            "text/plain": [
              "<Figure size 432x288 with 1 Axes>"
            ]
          },
          "metadata": {
            "needs_background": "light"
          },
          "output_type": "display_data"
        }
      ],
      "source": [
        "sns.scatterplot(x=insurance['bmi'], y=insurance['expenses'], hue=insurance['smoker'])\n",
        "sns.rugplot(x=insurance['bmi'], y=insurance['expenses'])\n"
      ]
    },
    {
      "cell_type": "code",
      "execution_count": 9,
      "metadata": {
        "colab": {
          "base_uri": "https://localhost:8080/",
          "height": 651
        },
        "id": "_262fNco-RSv",
        "outputId": "85e455e1-8eaa-43d3-894e-7fd13a791ad0"
      },
      "outputs": [
        {
          "data": {
            "text/plain": [
              "<seaborn.axisgrid.FacetGrid at 0x2bb12739960>"
            ]
          },
          "execution_count": 9,
          "metadata": {},
          "output_type": "execute_result"
        },
        {
          "data": {
            "image/png": "[encoded data removed]",
            "text/plain": [
              "<Figure size 432x288 with 1 Axes>"
            ]
          },
          "metadata": {
            "needs_background": "light"
          },
          "output_type": "display_data"
        },
        {
          "data": {
            "image/png": "[encoded data removed]",
            "text/plain": [
              "<Figure size 360x360 with 1 Axes>"
            ]
          },
          "metadata": {
            "needs_background": "light"
          },
          "output_type": "display_data"
        }
      ],
      "source": [
        "sns.scatterplot(x=insurance['age'], y=insurance['expenses'])\n",
        "sns.rugplot(x=insurance['age'], y=insurance['expenses'])\n",
        "sns.lmplot(x=\"age\", y=\"expenses\", data=insurance)"
      ]
    },
    {
      "cell_type": "code",
      "execution_count": 10,
      "metadata": {
        "colab": {
          "base_uri": "https://localhost:8080/",
          "height": 296
        },
        "id": "oJCtlq3t_v_g",
        "outputId": "20c029a1-dd05-4f5e-e500-e01a0030c764"
      },
      "outputs": [
        {
          "data": {
            "text/plain": [
              "<AxesSubplot:xlabel='children', ylabel='expenses'>"
            ]
          },
          "execution_count": 10,
          "metadata": {},
          "output_type": "execute_result"
        },
        {
          "data": {
            "image/png": "[encoded data removed]",
            "text/plain": [
              "<Figure size 432x288 with 1 Axes>"
            ]
          },
          "metadata": {
            "needs_background": "light"
          },
          "output_type": "display_data"
        }
      ],
      "source": [
        "sns.scatterplot(x = insurance['children'], y = insurance['expenses'])\n"
      ]
    },
    {
      "cell_type": "code",
      "execution_count": 15,
      "metadata": {},
      "outputs": [
        {
          "data": {
            "text/plain": [
              "<AxesSubplot:xlabel='region', ylabel='expenses'>"
            ]
          },
          "execution_count": 15,
          "metadata": {},
          "output_type": "execute_result"
        },
        {
          "data": {
            "image/png": "[encoded data removed]",
            "text/plain": [
              "<Figure size 432x288 with 1 Axes>"
            ]
          },
          "metadata": {
            "needs_background": "light"
          },
          "output_type": "display_data"
        }
      ],
      "source": [
        "sns.scatterplot(x = insurance['region'], y = insurance['expenses'], hue = insurance['sex'])\n",
        "# sns.scatterplot(x = insurance['region'], y = insurance['expenses'])\n"
      ]
    },
    {
      "cell_type": "code",
      "execution_count": 11,
      "metadata": {
        "colab": {
          "base_uri": "https://localhost:8080/"
        },
        "id": "gyYbaokQNLdl",
        "outputId": "c880e790-a75d-41e4-d597-6043b83b6584"
      },
      "outputs": [
        {
          "data": {
            "text/plain": [
              "age         float64\n",
              "sex         float64\n",
              "bmi         float64\n",
              "children    float64\n",
              "smoker      float64\n",
              "region      float64\n",
              "expenses    float64\n",
              "dtype: object"
            ]
          },
          "execution_count": 11,
          "metadata": {},
          "output_type": "execute_result"
        }
      ],
      "source": [
        "insurance.dtypes"
      ]
    },
    {
      "cell_type": "markdown",
      "metadata": {
        "id": "aUQHT-P8VoVi"
      },
      "source": [
        "**Normallize**"
      ]
    },
    {
      "cell_type": "code",
      "execution_count": 12,
      "metadata": {
        "colab": {
          "base_uri": "https://localhost:8080/",
          "height": 424
        },
        "id": "cJ_lBYvVVePL",
        "outputId": "5191fb2e-5ca1-46c7-cc6f-a24e7443326a"
      },
      "outputs": [
        {
          "data": {
            "text/html": [
              "<div>\n",
              "<style scoped>\n",
              "    .dataframe tbody tr th:only-of-type {\n",
              "        vertical-align: middle;\n",
              "    }\n",
              "\n",
              "    .dataframe tbody tr th {\n",
              "        vertical-align: top;\n",
              "    }\n",
              "\n",
              "    .dataframe thead th {\n",
              "        text-align: right;\n",
              "    }\n",
              "</style>\n",
              "<table border=\"1\" class=\"dataframe\">\n",
              "  <thead>\n",
              "    <tr style=\"text-align: right;\">\n",
              "      <th></th>\n",
              "      <th>age</th>\n",
              "      <th>sex</th>\n",
              "      <th>bmi</th>\n",
              "      <th>children</th>\n",
              "      <th>smoker</th>\n",
              "      <th>region</th>\n",
              "      <th>expenses</th>\n",
              "    </tr>\n",
              "  </thead>\n",
              "  <tbody>\n",
              "    <tr>\n",
              "      <th>1</th>\n",
              "      <td>19.0</td>\n",
              "      <td>0.0</td>\n",
              "      <td>27.9</td>\n",
              "      <td>0.0</td>\n",
              "      <td>1.0</td>\n",
              "      <td>2.0</td>\n",
              "      <td>16884.92</td>\n",
              "    </tr>\n",
              "    <tr>\n",
              "      <th>2</th>\n",
              "      <td>18.0</td>\n",
              "      <td>1.0</td>\n",
              "      <td>33.8</td>\n",
              "      <td>1.0</td>\n",
              "      <td>0.0</td>\n",
              "      <td>1.0</td>\n",
              "      <td>1725.55</td>\n",
              "    </tr>\n",
              "    <tr>\n",
              "      <th>3</th>\n",
              "      <td>28.0</td>\n",
              "      <td>1.0</td>\n",
              "      <td>33.0</td>\n",
              "      <td>3.0</td>\n",
              "      <td>0.0</td>\n",
              "      <td>1.0</td>\n",
              "      <td>4449.46</td>\n",
              "    </tr>\n",
              "    <tr>\n",
              "      <th>4</th>\n",
              "      <td>33.0</td>\n",
              "      <td>1.0</td>\n",
              "      <td>22.7</td>\n",
              "      <td>0.0</td>\n",
              "      <td>0.0</td>\n",
              "      <td>3.0</td>\n",
              "      <td>21984.47</td>\n",
              "    </tr>\n",
              "    <tr>\n",
              "      <th>5</th>\n",
              "      <td>32.0</td>\n",
              "      <td>1.0</td>\n",
              "      <td>28.9</td>\n",
              "      <td>0.0</td>\n",
              "      <td>0.0</td>\n",
              "      <td>3.0</td>\n",
              "      <td>3866.86</td>\n",
              "    </tr>\n",
              "    <tr>\n",
              "      <th>...</th>\n",
              "      <td>...</td>\n",
              "      <td>...</td>\n",
              "      <td>...</td>\n",
              "      <td>...</td>\n",
              "      <td>...</td>\n",
              "      <td>...</td>\n",
              "      <td>...</td>\n",
              "    </tr>\n",
              "    <tr>\n",
              "      <th>1334</th>\n",
              "      <td>50.0</td>\n",
              "      <td>1.0</td>\n",
              "      <td>31.0</td>\n",
              "      <td>3.0</td>\n",
              "      <td>0.0</td>\n",
              "      <td>3.0</td>\n",
              "      <td>10600.55</td>\n",
              "    </tr>\n",
              "    <tr>\n",
              "      <th>1335</th>\n",
              "      <td>18.0</td>\n",
              "      <td>0.0</td>\n",
              "      <td>31.9</td>\n",
              "      <td>0.0</td>\n",
              "      <td>0.0</td>\n",
              "      <td>0.0</td>\n",
              "      <td>2205.98</td>\n",
              "    </tr>\n",
              "    <tr>\n",
              "      <th>1336</th>\n",
              "      <td>18.0</td>\n",
              "      <td>0.0</td>\n",
              "      <td>36.9</td>\n",
              "      <td>0.0</td>\n",
              "      <td>0.0</td>\n",
              "      <td>1.0</td>\n",
              "      <td>1629.83</td>\n",
              "    </tr>\n",
              "    <tr>\n",
              "      <th>1337</th>\n",
              "      <td>21.0</td>\n",
              "      <td>0.0</td>\n",
              "      <td>25.8</td>\n",
              "      <td>0.0</td>\n",
              "      <td>0.0</td>\n",
              "      <td>2.0</td>\n",
              "      <td>2007.95</td>\n",
              "    </tr>\n",
              "    <tr>\n",
              "      <th>1338</th>\n",
              "      <td>61.0</td>\n",
              "      <td>0.0</td>\n",
              "      <td>29.1</td>\n",
              "      <td>0.0</td>\n",
              "      <td>1.0</td>\n",
              "      <td>3.0</td>\n",
              "      <td>29141.36</td>\n",
              "    </tr>\n",
              "  </tbody>\n",
              "</table>\n",
              "<p>1338 rows × 7 columns</p>\n",
              "</div>"
            ],
            "text/plain": [
              "       age  sex   bmi  children  smoker  region  expenses\n",
              "1     19.0  0.0  27.9       0.0     1.0     2.0  16884.92\n",
              "2     18.0  1.0  33.8       1.0     0.0     1.0   1725.55\n",
              "3     28.0  1.0  33.0       3.0     0.0     1.0   4449.46\n",
              "4     33.0  1.0  22.7       0.0     0.0     3.0  21984.47\n",
              "5     32.0  1.0  28.9       0.0     0.0     3.0   3866.86\n",
              "...    ...  ...   ...       ...     ...     ...       ...\n",
              "1334  50.0  1.0  31.0       3.0     0.0     3.0  10600.55\n",
              "1335  18.0  0.0  31.9       0.0     0.0     0.0   2205.98\n",
              "1336  18.0  0.0  36.9       0.0     0.0     1.0   1629.83\n",
              "1337  21.0  0.0  25.8       0.0     0.0     2.0   2007.95\n",
              "1338  61.0  0.0  29.1       0.0     1.0     3.0  29141.36\n",
              "\n",
              "[1338 rows x 7 columns]"
            ]
          },
          "execution_count": 12,
          "metadata": {},
          "output_type": "execute_result"
        }
      ],
      "source": [
        "insurance"
      ]
    },
    {
      "cell_type": "code",
      "execution_count": 9,
      "metadata": {
        "colab": {
          "base_uri": "https://localhost:8080/",
          "height": 424
        },
        "id": "kXGynGGOVlTV",
        "outputId": "0da2ef0c-700a-4927-dd79-2990ffe4493d"
      },
      "outputs": [
        {
          "data": {
            "text/html": [
              "<div>\n",
              "<style scoped>\n",
              "    .dataframe tbody tr th:only-of-type {\n",
              "        vertical-align: middle;\n",
              "    }\n",
              "\n",
              "    .dataframe tbody tr th {\n",
              "        vertical-align: top;\n",
              "    }\n",
              "\n",
              "    .dataframe thead th {\n",
              "        text-align: right;\n",
              "    }\n",
              "</style>\n",
              "<table border=\"1\" class=\"dataframe\">\n",
              "  <thead>\n",
              "    <tr style=\"text-align: right;\">\n",
              "      <th></th>\n",
              "      <th>age</th>\n",
              "      <th>sex</th>\n",
              "      <th>bmi</th>\n",
              "      <th>children</th>\n",
              "      <th>smoker</th>\n",
              "      <th>region</th>\n",
              "      <th>expenses</th>\n",
              "    </tr>\n",
              "  </thead>\n",
              "  <tbody>\n",
              "    <tr>\n",
              "      <th>1</th>\n",
              "      <td>0.021739</td>\n",
              "      <td>0.0</td>\n",
              "      <td>0.320755</td>\n",
              "      <td>0.0</td>\n",
              "      <td>1.0</td>\n",
              "      <td>0.666667</td>\n",
              "      <td>16884.92</td>\n",
              "    </tr>\n",
              "    <tr>\n",
              "      <th>2</th>\n",
              "      <td>0.000000</td>\n",
              "      <td>1.0</td>\n",
              "      <td>0.479784</td>\n",
              "      <td>0.2</td>\n",
              "      <td>0.0</td>\n",
              "      <td>0.333333</td>\n",
              "      <td>1725.55</td>\n",
              "    </tr>\n",
              "    <tr>\n",
              "      <th>3</th>\n",
              "      <td>0.217391</td>\n",
              "      <td>1.0</td>\n",
              "      <td>0.458221</td>\n",
              "      <td>0.6</td>\n",
              "      <td>0.0</td>\n",
              "      <td>0.333333</td>\n",
              "      <td>4449.46</td>\n",
              "    </tr>\n",
              "    <tr>\n",
              "      <th>4</th>\n",
              "      <td>0.326087</td>\n",
              "      <td>1.0</td>\n",
              "      <td>0.180593</td>\n",
              "      <td>0.0</td>\n",
              "      <td>0.0</td>\n",
              "      <td>1.000000</td>\n",
              "      <td>21984.47</td>\n",
              "    </tr>\n",
              "    <tr>\n",
              "      <th>5</th>\n",
              "      <td>0.304348</td>\n",
              "      <td>1.0</td>\n",
              "      <td>0.347709</td>\n",
              "      <td>0.0</td>\n",
              "      <td>0.0</td>\n",
              "      <td>1.000000</td>\n",
              "      <td>3866.86</td>\n",
              "    </tr>\n",
              "    <tr>\n",
              "      <th>...</th>\n",
              "      <td>...</td>\n",
              "      <td>...</td>\n",
              "      <td>...</td>\n",
              "      <td>...</td>\n",
              "      <td>...</td>\n",
              "      <td>...</td>\n",
              "      <td>...</td>\n",
              "    </tr>\n",
              "    <tr>\n",
              "      <th>1334</th>\n",
              "      <td>0.695652</td>\n",
              "      <td>1.0</td>\n",
              "      <td>0.404313</td>\n",
              "      <td>0.6</td>\n",
              "      <td>0.0</td>\n",
              "      <td>1.000000</td>\n",
              "      <td>10600.55</td>\n",
              "    </tr>\n",
              "    <tr>\n",
              "      <th>1335</th>\n",
              "      <td>0.000000</td>\n",
              "      <td>0.0</td>\n",
              "      <td>0.428571</td>\n",
              "      <td>0.0</td>\n",
              "      <td>0.0</td>\n",
              "      <td>0.000000</td>\n",
              "      <td>2205.98</td>\n",
              "    </tr>\n",
              "    <tr>\n",
              "      <th>1336</th>\n",
              "      <td>0.000000</td>\n",
              "      <td>0.0</td>\n",
              "      <td>0.563342</td>\n",
              "      <td>0.0</td>\n",
              "      <td>0.0</td>\n",
              "      <td>0.333333</td>\n",
              "      <td>1629.83</td>\n",
              "    </tr>\n",
              "    <tr>\n",
              "      <th>1337</th>\n",
              "      <td>0.065217</td>\n",
              "      <td>0.0</td>\n",
              "      <td>0.264151</td>\n",
              "      <td>0.0</td>\n",
              "      <td>0.0</td>\n",
              "      <td>0.666667</td>\n",
              "      <td>2007.95</td>\n",
              "    </tr>\n",
              "    <tr>\n",
              "      <th>1338</th>\n",
              "      <td>0.934783</td>\n",
              "      <td>0.0</td>\n",
              "      <td>0.353100</td>\n",
              "      <td>0.0</td>\n",
              "      <td>1.0</td>\n",
              "      <td>1.000000</td>\n",
              "      <td>29141.36</td>\n",
              "    </tr>\n",
              "  </tbody>\n",
              "</table>\n",
              "<p>1338 rows × 7 columns</p>\n",
              "</div>"
            ],
            "text/plain": [
              "           age  sex       bmi  children  smoker    region  expenses\n",
              "1     0.021739  0.0  0.320755       0.0     1.0  0.666667  16884.92\n",
              "2     0.000000  1.0  0.479784       0.2     0.0  0.333333   1725.55\n",
              "3     0.217391  1.0  0.458221       0.6     0.0  0.333333   4449.46\n",
              "4     0.326087  1.0  0.180593       0.0     0.0  1.000000  21984.47\n",
              "5     0.304348  1.0  0.347709       0.0     0.0  1.000000   3866.86\n",
              "...        ...  ...       ...       ...     ...       ...       ...\n",
              "1334  0.695652  1.0  0.404313       0.6     0.0  1.000000  10600.55\n",
              "1335  0.000000  0.0  0.428571       0.0     0.0  0.000000   2205.98\n",
              "1336  0.000000  0.0  0.563342       0.0     0.0  0.333333   1629.83\n",
              "1337  0.065217  0.0  0.264151       0.0     0.0  0.666667   2007.95\n",
              "1338  0.934783  0.0  0.353100       0.0     1.0  1.000000  29141.36\n",
              "\n",
              "[1338 rows x 7 columns]"
            ]
          },
          "execution_count": 9,
          "metadata": {},
          "output_type": "execute_result"
        }
      ],
      "source": [
        "data_normalize=(insurance-insurance.min())/(insurance.max()-insurance.min())\n",
        "data_normalize.expenses = data_normalize.expenses*(insurance.expenses.max()-insurance.expenses.min())+insurance.expenses.min()\n",
        "data_normalize"
      ]
    },
    {
      "cell_type": "code",
      "execution_count": 36,
      "metadata": {
        "colab": {
          "base_uri": "https://localhost:8080/"
        },
        "id": "mGQ8224VhBkk",
        "outputId": "4c115f39-40b8-47fc-be72-16f37f1b22db"
      },
      "outputs": [
        {
          "name": "stdout",
          "output_type": "stream",
          "text": [
            "           age  sex       bmi  children  smoker    region\n",
            "1047  0.543478  0.0  0.245283       0.0     0.0  0.000000\n",
            "683   0.456522  1.0  0.520216       0.4     1.0  0.666667\n",
            "1038  0.586957  0.0  0.390836       0.2     1.0  1.000000\n",
            "491   0.021739  0.0  0.455526       0.0     0.0  0.666667\n",
            "40    0.913043  1.0  0.644205       0.0     1.0  0.666667\n",
            "...        ...  ...       ...       ...     ...       ...\n",
            "1096  0.000000  0.0  0.415094       0.8     0.0  0.000000\n",
            "1131  0.456522  0.0  0.212938       1.0     0.0  0.333333\n",
            "1295  0.869565  1.0  0.247978       0.0     0.0  0.000000\n",
            "861   0.413043  0.0  0.851752       0.4     1.0  0.666667\n",
            "1127  0.804348  1.0  0.374663       0.0     0.0  0.666667\n",
            "\n",
            "[896 rows x 6 columns]\n",
            "1047     7325.05\n",
            "683     40103.89\n",
            "1038    39725.52\n",
            "491      1748.77\n",
            "40      48173.36\n",
            "          ...   \n",
            "1096     4561.19\n",
            "1131     8582.30\n",
            "1295    11931.13\n",
            "861     46113.51\n",
            "1127    10214.64\n",
            "Name: expenses, Length: 896, dtype: float64\n"
          ]
        }
      ],
      "source": [
        "feature_cols = ['age', 'sex', 'bmi', 'children', 'smoker', 'region']\n",
        "feature_cols2 = ['age', 'bmi', 'children', 'smoker']\n",
        "X = data_normalize[feature_cols]\n",
        "y = data_normalize['expenses']\n",
        "from sklearn.model_selection import train_test_split\n",
        "X_train, X_test, y_train, y_test = train_test_split(X, y, test_size=0.33, random_state=42)\n",
        "print(X_train)\n",
        "print(y_train)\n",
        "A = data_normalize[feature_cols2]\n",
        "b = data_normalize['expenses']\n",
        "A_train, A_test, b_train, b_test = train_test_split(A, b, test_size=0.33, random_state=42)"
      ]
    },
    {
      "cell_type": "code",
      "execution_count": 59,
      "metadata": {
        "colab": {
          "base_uri": "https://localhost:8080/",
          "height": 637
        },
        "id": "eg30A34hkBPv",
        "outputId": "0d08cc2d-4ac4-4fca-e8a2-c7a7b3172235"
      },
      "outputs": [
        {
          "name": "stdout",
          "output_type": "stream",
          "text": [
            " k = 1 Mean Squared Error =  53065763.04598145\n",
            " k = 2 Mean Squared Error =  38429920.87057336\n",
            " k = 3 Mean Squared Error =  35770129.417896725\n",
            " k = 4 Mean Squared Error =  34116611.11749678\n",
            " k = 5 Mean Squared Error =  31823845.88272604\n",
            " k = 6 Mean Squared Error =  31670868.097830456\n",
            " k = 7 Mean Squared Error =  31533111.452649564\n",
            " k = 8 Mean Squared Error =  31383894.99210778\n",
            " k = 9 Mean Squared Error =  31368182.908007868\n",
            " k = 10 Mean Squared Error =  31377586.388637327\n",
            " k = 11 Mean Squared Error =  31282387.833133336\n",
            " k = 12 Mean Squared Error =  31402480.416546997\n",
            " k = 13 Mean Squared Error =  31301859.59992273\n",
            " k = 14 Mean Squared Error =  31347428.763758257\n",
            " k = 15 Mean Squared Error =  31420215.418548755\n",
            " k = 16 Mean Squared Error =  31253850.740581524\n",
            " k = 17 Mean Squared Error =  31356729.901576087\n",
            " k = 18 Mean Squared Error =  31766588.415531423\n",
            " k = 19 Mean Squared Error =  31829451.20101201\n",
            " k = 20 Mean Squared Error =  31928735.85852446\n"
          ]
        }
      ],
      "source": [
        "from sklearn.metrics import mean_squared_error, r2_score\n",
        "import numpy as np\n",
        "\n",
        "distance_6 = []\n",
        "from sklearn.neighbors import KNeighborsRegressor\n",
        "for i in range(20):\n",
        "    knn_model = KNeighborsRegressor(n_neighbors=i+1, weights='distance').fit(X_train, y_train)\n",
        "    predicted_values = knn_model.predict(X_test)\n",
        "    predict_df = pd.DataFrame({\"Dependent_Test\" : y_test, \"Dependent_Predicted\" : predicted_values})\n",
        "    mse_knn_distance = mean_squared_error(predict_df.Dependent_Predicted, predict_df.Dependent_Test)\n",
        "    print(\" k = \" + str(i+1) + \" Mean Squared Error = \", mean_squared_error(predict_df.Dependent_Predicted, predict_df.Dependent_Test))\n",
        "    distance_6.append(mean_squared_error(predict_df.Dependent_Predicted, predict_df.Dependent_Test))\n",
        "x = [1,2,3,4,5,6,7,8,9,10,11,12,13,14,15,16,17,18,19,20]\n",
        "# plt.plot(x ,distance_6)\n",
        "# plt.xlabel(\"k\")\n",
        "# plt.ylabel('MSE_distance')\n",
        "# plt.show()\n"
      ]
    },
    {
      "cell_type": "code",
      "execution_count": 60,
      "metadata": {
        "colab": {
          "base_uri": "https://localhost:8080/",
          "height": 637
        },
        "id": "ndkR2IsykztL",
        "outputId": "c217e38e-c597-4916-9361-c0375d58f5b5"
      },
      "outputs": [
        {
          "name": "stdout",
          "output_type": "stream",
          "text": [
            " k = 1 Mean Squared Error =  53065763.04598145\n",
            " k = 2 Mean Squared Error =  38042367.78250453\n",
            " k = 3 Mean Squared Error =  35908526.68004528\n",
            " k = 4 Mean Squared Error =  34227834.6576583\n",
            " k = 5 Mean Squared Error =  31498814.653729822\n",
            " k = 6 Mean Squared Error =  32205517.321283486\n",
            " k = 7 Mean Squared Error =  32389665.124796905\n",
            " k = 8 Mean Squared Error =  32093291.800788414\n",
            " k = 9 Mean Squared Error =  32430243.773172826\n",
            " k = 10 Mean Squared Error =  32309616.414366696\n",
            " k = 11 Mean Squared Error =  32210565.310166385\n",
            " k = 12 Mean Squared Error =  32446630.906307306\n",
            " k = 13 Mean Squared Error =  32212489.327658597\n",
            " k = 14 Mean Squared Error =  32303028.774224553\n",
            " k = 15 Mean Squared Error =  32618688.03220302\n",
            " k = 16 Mean Squared Error =  32293774.193567988\n",
            " k = 17 Mean Squared Error =  32534336.981490456\n",
            " k = 18 Mean Squared Error =  33129731.37463589\n",
            " k = 19 Mean Squared Error =  33223732.84940244\n",
            " k = 20 Mean Squared Error =  33438046.914222553\n"
          ]
        }
      ],
      "source": [
        "import matplotlib.pyplot as plt\n",
        "from sklearn.metrics import mean_squared_error, r2_score\n",
        "import numpy as np\n",
        "uniform_6 = []\n",
        "\n",
        "\n",
        "from sklearn.neighbors import KNeighborsRegressor\n",
        "for i in range(20):\n",
        "    knn_model = KNeighborsRegressor(n_neighbors=i+1, weights='uniform').fit(X_train, y_train)\n",
        "    predicted_values = knn_model.predict(X_test)\n",
        "    predict_df = pd.DataFrame({\"Dependent_Test\" : y_test, \"Dependent_Predicted\" : predicted_values})\n",
        "    print(\" k = \" + str(i+1) + \" Mean Squared Error = \", mean_squared_error(predict_df.Dependent_Predicted, predict_df.Dependent_Test))\n",
        "    uniform_6.append(mean_squared_error(predict_df.Dependent_Predicted, predict_df.Dependent_Test))\n",
        "    \n",
        "x = [1,2,3,4,5,6,7,8,9,10,11,12,13,14,15,16,17,18,19,20]\n",
        "\n",
        "# plt.plot(x,uniform_6)\n",
        "# plt.xlabel(\"k\")\n",
        "# plt.ylabel('MSE_uniform')\n",
        "# plt.show()\n"
      ]
    },
    {
      "cell_type": "code",
      "execution_count": 61,
      "metadata": {},
      "outputs": [
        {
          "name": "stdout",
          "output_type": "stream",
          "text": [
            " k = 1 Mean Squared Error =  42966147.374798425\n",
            " k = 2 Mean Squared Error =  31456952.805083945\n",
            " k = 3 Mean Squared Error =  28335028.269093253\n",
            " k = 4 Mean Squared Error =  26588135.771195214\n",
            " k = 5 Mean Squared Error =  26001850.826447878\n",
            " k = 6 Mean Squared Error =  25848051.5344593\n",
            " k = 7 Mean Squared Error =  25137882.56307059\n",
            " k = 8 Mean Squared Error =  24899453.191375274\n",
            " k = 9 Mean Squared Error =  24582662.90734936\n",
            " k = 10 Mean Squared Error =  24618946.95811105\n",
            " k = 11 Mean Squared Error =  24458890.013869867\n",
            " k = 12 Mean Squared Error =  24430031.382659487\n",
            " k = 13 Mean Squared Error =  24179882.426813014\n",
            " k = 14 Mean Squared Error =  23955754.108113762\n",
            " k = 15 Mean Squared Error =  23898941.25042891\n",
            " k = 16 Mean Squared Error =  23904834.96187178\n",
            " k = 17 Mean Squared Error =  24032634.13542718\n",
            " k = 18 Mean Squared Error =  23983899.1340055\n",
            " k = 19 Mean Squared Error =  24080275.47202944\n",
            " k = 20 Mean Squared Error =  24002919.38014114\n"
          ]
        }
      ],
      "source": [
        "from sklearn.metrics import mean_squared_error, r2_score\n",
        "import numpy as np\n",
        "\n",
        "distance_4 = []\n",
        "from sklearn.neighbors import KNeighborsRegressor\n",
        "for i in range(20):\n",
        "    knn_model = KNeighborsRegressor(n_neighbors=i+1, weights='distance').fit(A_train, b_train)\n",
        "    predicted_values = knn_model.predict(A_test)\n",
        "    predict_df = pd.DataFrame({\"Dependent_Test\" : b_test, \"Dependent_Predicted\" : predicted_values})\n",
        "    mse_knn_distance = mean_squared_error(predict_df.Dependent_Predicted, predict_df.Dependent_Test)\n",
        "    print(\" k = \" + str(i+1) + \" Mean Squared Error = \", mean_squared_error(predict_df.Dependent_Predicted, predict_df.Dependent_Test))\n",
        "    distance_4.append(mean_squared_error(predict_df.Dependent_Predicted, predict_df.Dependent_Test))\n",
        "x = [1,2,3,4,5,6,7,8,9,10,11,12,13,14,15,16,17,18,19,20]\n",
        "# plt.plot(x ,distance_4)\n",
        "# plt.xlabel(\"k\")\n",
        "# plt.ylabel('MSE_distance')\n",
        "# plt.show()\n"
      ]
    },
    {
      "cell_type": "code",
      "execution_count": 62,
      "metadata": {},
      "outputs": [
        {
          "name": "stdout",
          "output_type": "stream",
          "text": [
            " k = 1 Mean Squared Error =  42966147.374798425\n",
            " k = 2 Mean Squared Error =  29802462.66425283\n",
            " k = 3 Mean Squared Error =  25803304.49767346\n",
            " k = 4 Mean Squared Error =  23885211.498218443\n",
            " k = 5 Mean Squared Error =  23732160.891487308\n",
            " k = 6 Mean Squared Error =  23757894.83487377\n",
            " k = 7 Mean Squared Error =  22941220.31757769\n",
            " k = 8 Mean Squared Error =  22872956.255037315\n",
            " k = 9 Mean Squared Error =  22563636.83950542\n",
            " k = 10 Mean Squared Error =  22927044.7107482\n",
            " k = 11 Mean Squared Error =  22925340.233753882\n",
            " k = 12 Mean Squared Error =  23000482.69025216\n",
            " k = 13 Mean Squared Error =  22743449.677037954\n",
            " k = 14 Mean Squared Error =  22433908.27040664\n",
            " k = 15 Mean Squared Error =  22300507.74324033\n",
            " k = 16 Mean Squared Error =  22488718.75538853\n",
            " k = 17 Mean Squared Error =  22781727.77394549\n",
            " k = 18 Mean Squared Error =  22858971.148191314\n",
            " k = 19 Mean Squared Error =  23086472.617892347\n",
            " k = 20 Mean Squared Error =  22876874.50383933\n"
          ]
        }
      ],
      "source": [
        "import matplotlib.pyplot as plt\n",
        "from sklearn.metrics import mean_squared_error, r2_score\n",
        "import numpy as np\n",
        "uniform_4 = []\n",
        "\n",
        "\n",
        "from sklearn.neighbors import KNeighborsRegressor\n",
        "for i in range(20):\n",
        "    knn_model = KNeighborsRegressor(n_neighbors=i+1, weights='uniform').fit(A_train, b_train)\n",
        "    predicted_values = knn_model.predict(A_test)\n",
        "    predict_df = pd.DataFrame({\"Dependent_Test\" : b_test, \"Dependent_Predicted\" : predicted_values})\n",
        "    print(\" k = \" + str(i+1) + \" Mean Squared Error = \", mean_squared_error(predict_df.Dependent_Predicted, predict_df.Dependent_Test))\n",
        "    uniform_4.append(mean_squared_error(predict_df.Dependent_Predicted, predict_df.Dependent_Test))\n",
        "    \n",
        "x = [1,2,3,4,5,6,7,8,9,10,11,12,13,14,15,16,17,18,19,20]\n",
        "\n",
        "# plt.plot(x,uniform_4)\n",
        "# plt.xlabel(\"k\")\n",
        "# plt.ylabel('MSE_uniform')\n",
        "# plt.show()\n"
      ]
    },
    {
      "cell_type": "code",
      "execution_count": 63,
      "metadata": {},
      "outputs": [
        {
          "data": {
            "image/png": "[encoded data removed]",
            "text/plain": [
              "<Figure size 432x288 with 1 Axes>"
            ]
          },
          "metadata": {
            "needs_background": "light"
          },
          "output_type": "display_data"
        }
      ],
      "source": [
        "fig, ax = plt.subplots()\n",
        "\n",
        "ax.plot(distance_6, color = 'green', label = 'distance6')\n",
        "ax.plot(uniform_6 , color = 'red', label = 'uniform6')\n",
        "\n",
        "ax.legend(loc = 'upper left')\n",
        "plt.show()"
      ]
    },
    {
      "cell_type": "code",
      "execution_count": 64,
      "metadata": {},
      "outputs": [
        {
          "data": {
            "image/png": "[encoded data removed]",
            "text/plain": [
              "<Figure size 432x288 with 1 Axes>"
            ]
          },
          "metadata": {
            "needs_background": "light"
          },
          "output_type": "display_data"
        }
      ],
      "source": [
        "fig, ax = plt.subplots()\n",
        "\n",
        "ax.plot(distance_6, color = 'green', label = 'distance4')\n",
        "ax.plot(uniform_6 , color = 'red', label = 'uniform4')\n",
        "\n",
        "ax.legend(loc = 'upper left')\n",
        "plt.show()"
      ]
    },
    {
      "cell_type": "code",
      "execution_count": 65,
      "metadata": {
        "colab": {
          "base_uri": "https://localhost:8080/"
        },
        "id": "7Wix32MTN7jd",
        "outputId": "31655416-eb19-4338-ace4-63901189e9b9"
      },
      "outputs": [
        {
          "data": {
            "text/plain": [
              "35346221.74168072"
            ]
          },
          "execution_count": 65,
          "metadata": {},
          "output_type": "execute_result"
        }
      ],
      "source": [
        "from sklearn.linear_model import LinearRegression\n",
        "reg = LinearRegression().fit(X_train, y_train)\n",
        "check = reg.predict(X_test)\n",
        "mse_linear_6 = np.mean(np.square(y_test - check))\n",
        "mse_linear_6"
      ]
    },
    {
      "cell_type": "code",
      "execution_count": 66,
      "metadata": {},
      "outputs": [
        {
          "data": {
            "text/plain": [
              "35297252.52263133"
            ]
          },
          "execution_count": 66,
          "metadata": {},
          "output_type": "execute_result"
        }
      ],
      "source": [
        "from sklearn.linear_model import LinearRegression\n",
        "\n",
        "reg = LinearRegression().fit(A_train, b_train)\n",
        "check = reg.predict(A_test)\n",
        "mse_linear_4 = np.mean(np.square(b_test - check))\n",
        "mse_linear_4"
      ]
    },
    {
      "cell_type": "code",
      "execution_count": 112,
      "metadata": {
        "colab": {
          "base_uri": "https://localhost:8080/",
          "height": 276
        },
        "id": "clcO7ivnYaZc",
        "outputId": "7770a83e-7f28-4cd2-df23-0f06b36cc4d6"
      },
      "outputs": [
        {
          "data": {
            "image/png": "[encoded data removed]",
            "text/plain": [
              "<Figure size 432x288 with 1 Axes>"
            ]
          },
          "metadata": {
            "needs_background": "light"
          },
          "output_type": "display_data"
        }
      ],
      "source": [
        "\n",
        "KNN_Distance_6 = [min(distance_6)]\n",
        "KNN_Uniform_6 = [min(uniform_6)]\n",
        "LR_6 = [mse_linear_6]\n",
        "LR_4 = [mse_linear_4]\n",
        "KNN_Distance_4 = [min(distance_4)]\n",
        "old = [min(uniform_4)]\n",
        "index = ['---------------------']\n",
        "df = pd.DataFrame({'KNN_distance_6': KNN_Distance_6,\n",
        "                   'KNN_Uniform_6': KNN_Uniform_6,\n",
        "                   'LR_6': LR_6,\n",
        "                   'LR_4': LR_4,\n",
        "                   'KNN_Distance_4': KNN_Distance_4,\n",
        "                   'KNN_Uniform_4': old\n",
        "                   }, index=index)\n",
        "ax = df.plot.bar(rot=0)"
      ]
    },
    {
      "cell_type": "code",
      "execution_count": 80,
      "metadata": {
        "colab": {
          "base_uri": "https://localhost:8080/"
        },
        "id": "qsWeCt01wkMa",
        "outputId": "76c40347-5d69-4f27-f052-e44f3ccc1e8d"
      },
      "outputs": [
        {
          "name": "stdout",
          "output_type": "stream",
          "text": [
            "[-1.44101831  0.14981489  1.        ]\n"
          ]
        }
      ],
      "source": [
        "\n",
        "\n",
        "#define response variable\n",
        "y = y\n",
        "b = b\n",
        "\n",
        "#define explanatory variable\n",
        "x = X\n",
        "a = A\n",
        "\n",
        "#add constant to predictor variables\n",
        "x = sm.add_constant(x)\n",
        "a = sm.add_constant(a)\n",
        "#fit linear regression model\n",
        "model = sm.OLS(y, x).fit() \n",
        "print((model.outlier_test())[0])\n",
        "modelx = sm.OLS(b,a).fit()"
      ]
    },
    {
      "cell_type": "code",
      "execution_count": 86,
      "metadata": {
        "id": "47PayLPq4wmb"
      },
      "outputs": [],
      "source": [
        "#suppress scientific notation\n",
        "import numpy as np\n",
        "np.set_printoptions(suppress=True)\n",
        "\n",
        "#create instance of influence\n",
        "influence = model.get_influence()\n",
        "influencex = modelx.get_influence()\n",
        "#obtain Cook's distance for each observation\n",
        "cooks = influence.cooks_distance\n",
        "cooksx = influencex.cooks_distance"
      ]
    },
    {
      "cell_type": "code",
      "execution_count": 87,
      "metadata": {
        "colab": {
          "base_uri": "https://localhost:8080/",
          "height": 386
        },
        "id": "fuP1iCGzGRKF",
        "outputId": "7188a06e-e796-4332-a3ee-d1bb001b345b"
      },
      "outputs": [
        {
          "data": {
            "text/plain": [
              "<seaborn.axisgrid.FacetGrid at 0x261266934c0>"
            ]
          },
          "execution_count": 87,
          "metadata": {},
          "output_type": "execute_result"
        },
        {
          "data": {
            "image/png": "[encoded data removed]",
            "text/plain": [
              "<Figure size 360x360 with 1 Axes>"
            ]
          },
          "metadata": {
            "needs_background": "light"
          },
          "output_type": "display_data"
        },
        {
          "data": {
            "image/png": "[encoded data removed]",
            "text/plain": [
              "<Figure size 360x360 with 1 Axes>"
            ]
          },
          "metadata": {
            "needs_background": "light"
          },
          "output_type": "display_data"
        }
      ],
      "source": [
        "import seaborn as sns\n",
        "sns.displot(cooks[0])\n",
        "sns.displot(cooksx[0])"
      ]
    },
    {
      "cell_type": "code",
      "execution_count": 92,
      "metadata": {
        "colab": {
          "base_uri": "https://localhost:8080/"
        },
        "id": "SIGVGDDswy4n",
        "outputId": "990840ed-23ea-4e79-ef9e-f5b5481f066b"
      },
      "outputs": [
        {
          "name": "stdout",
          "output_type": "stream",
          "text": [
            "3\n",
            "3\n",
            "9\n",
            "9\n",
            "34\n",
            "34\n",
            "62\n",
            "62\n",
            "69\n",
            "98\n",
            "98\n",
            "99\n",
            "99\n",
            "102\n",
            "102\n",
            "115\n",
            "115\n",
            "140\n",
            "140\n",
            "219\n",
            "219\n",
            "242\n",
            "242\n",
            "250\n",
            "250\n",
            "266\n",
            "289\n",
            "289\n",
            "321\n",
            "321\n",
            "380\n",
            "380\n",
            "387\n",
            "387\n",
            "412\n",
            "412\n",
            "430\n",
            "430\n",
            "468\n",
            "468\n",
            "488\n",
            "488\n",
            "494\n",
            "516\n",
            "516\n",
            "520\n",
            "526\n",
            "526\n",
            "543\n",
            "543\n",
            "573\n",
            "573\n",
            "577\n",
            "577\n",
            "587\n",
            "599\n",
            "599\n",
            "696\n",
            "739\n",
            "793\n",
            "806\n",
            "806\n",
            "819\n",
            "819\n",
            "860\n",
            "936\n",
            "959\n",
            "980\n",
            "987\n",
            "994\n",
            "994\n",
            "1008\n",
            "1008\n",
            "1011\n",
            "1012\n",
            "1012\n",
            "1019\n",
            "1019\n",
            "1027\n",
            "1027\n",
            "1039\n",
            "1039\n",
            "1047\n",
            "1047\n",
            "1085\n",
            "1085\n",
            "1100\n",
            "1100\n",
            "1142\n",
            "1142\n",
            "1146\n",
            "1146\n",
            "1156\n",
            "1195\n",
            "1195\n",
            "1206\n",
            "1206\n",
            "1230\n",
            "1230\n",
            "1258\n",
            "1258\n",
            "1300\n",
            "1300\n",
            "1307\n",
            "1317\n",
            "1317\n",
            "1328\n",
            "1328\n",
            "________________\n",
            "53\n",
            "55\n"
          ]
        }
      ],
      "source": [
        "#display Cook's distances\n",
        "j = 0\n",
        "noise = []\n",
        "noisex = []\n",
        "k = []\n",
        "for i in range(len(cooks[1])):\n",
        "  if (cooks[0][i] > 0.004):\n",
        "    j = j + 1\n",
        "    noise.append(i)\n",
        "    print(i)\n",
        "  if (cooksx[0][i]>0.004):\n",
        "    noisex.append(i)\n",
        "    print(i)\n",
        "print(\"________________\")\n",
        "print((j))\n",
        "print(len(noisex))"
      ]
    },
    {
      "cell_type": "code",
      "execution_count": 96,
      "metadata": {
        "id": "IsiBKaRG84AM"
      },
      "outputs": [
        {
          "name": "stdout",
          "output_type": "stream",
          "text": [
            "[[0.02173913 0.         0.32075472 0.         1.         0.66666667]\n",
            " [0.         1.         0.47978437 0.2        0.         0.33333333]\n",
            " [0.2173913  1.         0.45822102 0.6        0.         0.33333333]\n",
            " ...\n",
            " [0.         0.         0.56334232 0.         0.         0.33333333]\n",
            " [0.06521739 0.         0.26415094 0.         0.         0.66666667]\n",
            " [0.93478261 0.         0.35309973 0.         1.         1.        ]]\n",
            "[[0.02173913 0.32075472 0.         1.        ]\n",
            " [0.         0.47978437 0.2        0.        ]\n",
            " [0.2173913  0.45822102 0.6        0.        ]\n",
            " ...\n",
            " [0.         0.56334232 0.         0.        ]\n",
            " [0.06521739 0.26415094 0.         0.        ]\n",
            " [0.93478261 0.35309973 0.         1.        ]]\n"
          ]
        }
      ],
      "source": [
        "newX = X\n",
        "newy = y\n",
        "newA = np.array(A)\n",
        "newb = np.array(b)\n",
        "print(newX)\n",
        "print(newA)\n",
        "for i in range(len(noise)):\n",
        "  newX = np.delete(newX, noise[len(noise)-i-1], 0)\n",
        "  newy = np.delete(newy, noise[len(noise)-i-1], 0)\n",
        "for i in range(len(noisex)):\n",
        "  newA = np.delete(newA, noisex[len(noisex)-i-1], 0)\n",
        "  newb = np.delete(newb, noisex[len(noisex)-i-1], 0)\n"
      ]
    },
    {
      "cell_type": "code",
      "execution_count": 97,
      "metadata": {
        "id": "l3c24IlEFe6H"
      },
      "outputs": [],
      "source": [
        "from sklearn.model_selection import train_test_split\n",
        "newX_train, newX_test, newy_train, newy_test = train_test_split(newX, newy, test_size=0.33, random_state=42)\n",
        "newA_train, newA_test, newb_train, newb_test = train_test_split(newA, newb, test_size=0.33, random_state=42)"
      ]
    },
    {
      "cell_type": "code",
      "execution_count": 99,
      "metadata": {
        "colab": {
          "base_uri": "https://localhost:8080/",
          "height": 637
        },
        "id": "EXHuICSnFRvo",
        "outputId": "7c5eb090-aca2-45b1-87cf-0292839e5554"
      },
      "outputs": [
        {
          "name": "stdout",
          "output_type": "stream",
          "text": [
            " k = 1 Mean Squared Error =  27509197.59391859\n",
            " k = 2 Mean Squared Error =  19607507.40527329\n",
            " k = 3 Mean Squared Error =  18184396.119649448\n",
            " k = 4 Mean Squared Error =  17113755.80224283\n",
            " k = 5 Mean Squared Error =  16560297.35620579\n",
            " k = 6 Mean Squared Error =  16617341.338621765\n",
            " k = 7 Mean Squared Error =  16822263.646140825\n",
            " k = 8 Mean Squared Error =  17164649.988064136\n",
            " k = 9 Mean Squared Error =  17369598.988144666\n",
            " k = 10 Mean Squared Error =  17891998.443641096\n",
            " k = 11 Mean Squared Error =  18134127.70192576\n",
            " k = 12 Mean Squared Error =  18394154.42243535\n",
            " k = 13 Mean Squared Error =  18460199.17629104\n",
            " k = 14 Mean Squared Error =  18588864.273928933\n",
            " k = 15 Mean Squared Error =  19056067.008071378\n",
            " k = 16 Mean Squared Error =  19189809.2581382\n",
            " k = 17 Mean Squared Error =  19536843.863540076\n",
            " k = 18 Mean Squared Error =  19864809.565296527\n",
            " k = 19 Mean Squared Error =  19990946.20889582\n",
            " k = 20 Mean Squared Error =  20111029.457769558\n"
          ]
        }
      ],
      "source": [
        "from sklearn.metrics import mean_squared_error, r2_score\n",
        "import numpy as np\n",
        "\n",
        "distance_6 = []\n",
        "from sklearn.neighbors import KNeighborsRegressor\n",
        "for i in range(20):\n",
        "    knn_model = KNeighborsRegressor(n_neighbors=i+1, weights='distance').fit(newX_train, newy_train)\n",
        "    predicted_values = knn_model.predict(newX_test)\n",
        "    predict_df = pd.DataFrame({\"Dependent_Test\" : newy_test, \"Dependent_Predicted\" : predicted_values})\n",
        "    print(\" k = \" + str(i+1) + \" Mean Squared Error = \", mean_squared_error(predict_df.Dependent_Predicted, predict_df.Dependent_Test))\n",
        "    distance_6.append(mean_squared_error(predict_df.Dependent_Predicted, predict_df.Dependent_Test))\n",
        "x = [1,2,3,4,5,6,7,8,9,10,11,12,13,14,15,16,17,18,19,20]\n",
        "# plt.plot(x ,distance)\n",
        "# plt.xlabel(\"k\")\n",
        "# plt.ylabel('MSE_distance')\n",
        "# plt.show()\n"
      ]
    },
    {
      "cell_type": "code",
      "execution_count": 100,
      "metadata": {
        "colab": {
          "base_uri": "https://localhost:8080/",
          "height": 637
        },
        "id": "TDmWKAxuIU9F",
        "outputId": "c0d5dac8-cd88-49ff-b0cc-af999a6e90d8"
      },
      "outputs": [
        {
          "name": "stdout",
          "output_type": "stream",
          "text": [
            " k = 1 Mean Squared Error =  27509197.59391859\n",
            " k = 2 Mean Squared Error =  20898900.441657532\n",
            " k = 3 Mean Squared Error =  19882252.723972626\n",
            " k = 4 Mean Squared Error =  18864625.511320747\n",
            " k = 5 Mean Squared Error =  18866170.713416085\n",
            " k = 6 Mean Squared Error =  19300702.875117067\n",
            " k = 7 Mean Squared Error =  19799125.41143692\n",
            " k = 8 Mean Squared Error =  20608438.655825343\n",
            " k = 9 Mean Squared Error =  20835210.048196852\n",
            " k = 10 Mean Squared Error =  21549750.33963354\n",
            " k = 11 Mean Squared Error =  21627444.9045925\n",
            " k = 12 Mean Squared Error =  21937542.94280655\n",
            " k = 13 Mean Squared Error =  21817878.451575663\n",
            " k = 14 Mean Squared Error =  21931223.33278027\n",
            " k = 15 Mean Squared Error =  22652959.89948988\n",
            " k = 16 Mean Squared Error =  22709752.28646173\n",
            " k = 17 Mean Squared Error =  23091986.243933335\n",
            " k = 18 Mean Squared Error =  23483986.385651648\n",
            " k = 19 Mean Squared Error =  23512625.561753575\n",
            " k = 20 Mean Squared Error =  23624242.634456914\n"
          ]
        }
      ],
      "source": [
        "from sklearn.metrics import mean_squared_error, r2_score\n",
        "import numpy as np\n",
        "\n",
        "uniform_6 = []\n",
        "from sklearn.neighbors import KNeighborsRegressor\n",
        "for i in range(20):\n",
        "    knn_model = KNeighborsRegressor(n_neighbors=i+1, weights='uniform').fit(newX_train, newy_train)\n",
        "    predicted_values = knn_model.predict(newX_test)\n",
        "    predict_df = pd.DataFrame({\"Dependent_Test\" : newy_test, \"Dependent_Predicted\" : predicted_values})\n",
        "    print(\" k = \" + str(i+1) + \" Mean Squared Error = \", mean_squared_error(predict_df.Dependent_Predicted, predict_df.Dependent_Test))\n",
        "    uniform_6.append(mean_squared_error(predict_df.Dependent_Predicted, predict_df.Dependent_Test))\n",
        "x = [1,2,3,4,5,6,7,8,9,10,11,12,13,14,15,16,17,18,19,20]\n",
        "# plt.plot(x ,uniform)\n",
        "# plt.xlabel(\"k\")\n",
        "# plt.ylabel('MSE_distance')\n",
        "# plt.show()\n"
      ]
    },
    {
      "cell_type": "code",
      "execution_count": 77,
      "metadata": {
        "colab": {
          "base_uri": "https://localhost:8080/"
        },
        "id": "_M__svTdHW0v",
        "outputId": "af7b74eb-9cfe-40e7-b9a1-5c4313247cfd"
      },
      "outputs": [
        {
          "data": {
            "text/plain": [
              "23219097.832243573"
            ]
          },
          "execution_count": 77,
          "metadata": {},
          "output_type": "execute_result"
        }
      ],
      "source": [
        "from sklearn.linear_model import LinearRegression\n",
        "\n",
        "\n",
        "from sklearn.model_selection import train_test_split\n",
        "\n",
        "reg = LinearRegression().fit(newX_train, newy_train)\n",
        "check = reg.predict(newX_test)\n",
        "mse = np.mean(np.square(newy_test - check))\n",
        "mse"
      ]
    },
    {
      "cell_type": "code",
      "execution_count": 107,
      "metadata": {},
      "outputs": [
        {
          "name": "stdout",
          "output_type": "stream",
          "text": [
            " k = 1 Mean Squared Error =  33220502.67674717\n",
            " k = 2 Mean Squared Error =  24350562.636300437\n",
            " k = 3 Mean Squared Error =  20748178.29994435\n",
            " k = 4 Mean Squared Error =  19776253.86482909\n",
            " k = 5 Mean Squared Error =  18630588.25251358\n",
            " k = 6 Mean Squared Error =  17888259.753782667\n",
            " k = 7 Mean Squared Error =  17877539.135181967\n",
            " k = 8 Mean Squared Error =  17671483.87251357\n",
            " k = 9 Mean Squared Error =  17603643.74933004\n",
            " k = 10 Mean Squared Error =  17480148.870911427\n",
            " k = 11 Mean Squared Error =  17325214.902553428\n",
            " k = 12 Mean Squared Error =  17404715.004202716\n",
            " k = 13 Mean Squared Error =  17357482.5200188\n",
            " k = 14 Mean Squared Error =  17269836.749954205\n",
            " k = 15 Mean Squared Error =  17309738.095819715\n",
            " k = 16 Mean Squared Error =  17223890.681446448\n",
            " k = 17 Mean Squared Error =  17187063.662323218\n",
            " k = 18 Mean Squared Error =  17208687.710679036\n",
            " k = 19 Mean Squared Error =  17259785.22701015\n",
            " k = 20 Mean Squared Error =  17297836.292103034\n"
          ]
        }
      ],
      "source": [
        "from sklearn.metrics import mean_squared_error, r2_score\n",
        "import numpy as np\n",
        "\n",
        "distance_4 = []\n",
        "from sklearn.neighbors import KNeighborsRegressor\n",
        "for i in range(20):\n",
        "    knn_model = KNeighborsRegressor(n_neighbors=i+1, weights='distance').fit(newA_train, newb_train)\n",
        "    predicted_values = knn_model.predict(newA_test)\n",
        "    \n",
        "    predict_df = pd.DataFrame({\"Dependent_Test\" : newb_test, \"Dependent_Predicted\" : predicted_values})\n",
        "    print(\" k = \" + str(i+1) + \" Mean Squared Error = \", mean_squared_error(predict_df.Dependent_Predicted, predict_df.Dependent_Test))\n",
        "    distance_4.append(mean_squared_error(predict_df.Dependent_Predicted, predict_df.Dependent_Test))\n",
        "x = [1,2,3,4,5,6,7,8,9,10,11,12,13,14,15,16,17,18,19,20]\n",
        "# plt.plot(x ,distance)\n",
        "# plt.xlabel(\"k\")\n",
        "# plt.ylabel('MSE_distance')\n",
        "# plt.show()\n"
      ]
    },
    {
      "cell_type": "code",
      "execution_count": 108,
      "metadata": {},
      "outputs": [
        {
          "name": "stdout",
          "output_type": "stream",
          "text": [
            " k = 1 Mean Squared Error =  33220502.67674717\n",
            " k = 2 Mean Squared Error =  22846975.996418577\n",
            " k = 3 Mean Squared Error =  18907000.587375443\n",
            " k = 4 Mean Squared Error =  18033967.34961318\n",
            " k = 5 Mean Squared Error =  16738819.418846795\n",
            " k = 6 Mean Squared Error =  16217749.20733659\n",
            " k = 7 Mean Squared Error =  16508768.525549354\n",
            " k = 8 Mean Squared Error =  16392731.723498633\n",
            " k = 9 Mean Squared Error =  16574058.108889492\n",
            " k = 10 Mean Squared Error =  16494178.009169007\n",
            " k = 11 Mean Squared Error =  16373096.742983652\n",
            " k = 12 Mean Squared Error =  16726366.076897003\n",
            " k = 13 Mean Squared Error =  16858253.451292276\n",
            " k = 14 Mean Squared Error =  16832413.252335995\n",
            " k = 15 Mean Squared Error =  16997372.34930491\n",
            " k = 16 Mean Squared Error =  16938245.525235213\n",
            " k = 17 Mean Squared Error =  16979300.89803232\n",
            " k = 18 Mean Squared Error =  17176772.218677152\n",
            " k = 19 Mean Squared Error =  17321438.92600031\n",
            " k = 20 Mean Squared Error =  17454982.485660486\n"
          ]
        }
      ],
      "source": [
        "from sklearn.metrics import mean_squared_error, r2_score\n",
        "import numpy as np\n",
        "\n",
        "uniform_4 = []\n",
        "from sklearn.neighbors import KNeighborsRegressor\n",
        "for i in range(20):\n",
        "    knn_model = KNeighborsRegressor(n_neighbors=i+1, weights='uniform').fit(newA_train, newb_train)\n",
        "    predicted_values = knn_model.predict(newA_test)\n",
        "    predict_df = pd.DataFrame({\"Dependent_Test\" : newb_test, \"Dependent_Predicted\" : predicted_values})\n",
        "    print(\" k = \" + str(i+1) + \" Mean Squared Error = \", mean_squared_error(predict_df.Dependent_Predicted, predict_df.Dependent_Test))\n",
        "    uniform_4.append(mean_squared_error(predict_df.Dependent_Predicted, predict_df.Dependent_Test))\n",
        "x = [1,2,3,4,5,6,7,8,9,10,11,12,13,14,15,16,17,18,19,20]\n",
        "# plt.plot(x ,uniform)\n",
        "# plt.xlabel(\"k\")\n",
        "# plt.ylabel('MSE_distance')\n",
        "# plt.show()\n"
      ]
    },
    {
      "cell_type": "code",
      "execution_count": 116,
      "metadata": {},
      "outputs": [
        {
          "data": {
            "image/png": "[encoded data removed]",
            "text/plain": [
              "<Figure size 432x288 with 1 Axes>"
            ]
          },
          "metadata": {
            "needs_background": "light"
          },
          "output_type": "display_data"
        }
      ],
      "source": [
        "KNN_Uniform_4 = [min(uniform_4)]\n",
        "KNN_Distance_4 = [min(distance_4)]\n",
        "New_Distance_6 = [min(distance_6)]\n",
        "New_Uniform_6 = [min(uniform_6)]\n",
        "index = ['---------------------']\n",
        "df = pd.DataFrame({'old' : old,\n",
        "                    'KNN_New_Uniform_4': KNN_Uniform_4,\n",
        "                    'KNN_New_Distance_4': KNN_Distance_4,\n",
        "                   'KNN_New_Distance_6': New_Distance_6,\n",
        "                   'KNN_New_Uniform_6': New_Uniform_6,\n",
        "                   \n",
        "                   \n",
        "                   \n",
        "\n",
        "                   }, index=index)\n",
        "ax = df.plot.bar(rot=0)"
      ]
    }
  ],
  "metadata": {
    "accelerator": "GPU",
    "colab": {
      "collapsed_sections": [],
      "name": "AI.ipynb",
      "provenance": []
    },
    "gpuClass": "standard",
    "kernelspec": {
      "display_name": "Python 3.10.5 64-bit",
      "language": "python",
      "name": "python3"
    },
    "language_info": {
      "codemirror_mode": {
        "name": "ipython",
        "version": 3
      },
      "file_extension": ".py",
      "mimetype": "text/x-python",
      "name": "python",
      "nbconvert_exporter": "python",
      "pygments_lexer": "ipython3",
      "version": "3.10.5"
    },
    "vscode": {
      "interpreter": {
        "hash": "13a98fec1af2644bc5c6550ec963233aadd254f48181f60d849a8d0330e8cd6d"
      }
    }
  },
  "nbformat": 4,
  "nbformat_minor": 0
}
