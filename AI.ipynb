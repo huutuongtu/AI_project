{
  "cells": [
    {
      "cell_type": "code",
      "execution_count": null,
      "metadata": {
        "id": "Ahde0lqdDolw",
        "colab": {
          "base_uri": "https://localhost:8080/"
        },
        "outputId": "7b49aa06-99f7-4415-eb34-5fe3f734f71d"
      },
      "outputs": [
        {
          "output_type": "stream",
          "name": "stdout",
          "text": [
            "Complete import\n"
          ]
        }
      ],
      "source": [
        "import pandas as pd\n",
        "import numpy as np\n",
        "\n",
        "from sklearn.neighbors import KNeighborsRegressor\n",
        "from sklearn.metrics import mean_squared_error\n",
        "from sklearn.model_selection import cross_val_score, KFold\n",
        "import seaborn as sns\n",
        "import matplotlib.pyplot as plt\n",
        "%matplotlib inline\n",
        "print(\"Complete import\")"
      ]
    },
    {
      "cell_type": "markdown",
      "metadata": {
        "id": "GnUZ7shSFRt2"
      },
      "source": [
        "Load data"
      ]
    },
    {
      "cell_type": "code",
      "execution_count": null,
      "metadata": {
        "colab": {
          "base_uri": "https://localhost:8080/",
          "height": 223
        },
        "id": "fyFuHtEGEmA6",
        "outputId": "efc0b1d4-2c0f-4b6e-9d08-be9d6a9e4edb"
      },
      "outputs": [
        {
          "output_type": "stream",
          "name": "stdout",
          "text": [
            "(1339, 7)\n"
          ]
        },
        {
          "output_type": "execute_result",
          "data": {
            "text/plain": [
              "   age     sex   bmi  children  smoker     region  expenses\n",
              "0  age     sex   bmi  children  smoker     region  expenses\n",
              "1   19  female  27.9         0     yes  southwest  16884.92\n",
              "2   18    male  33.8         1      no  southeast   1725.55\n",
              "3   28    male  33.0         3      no  southeast   4449.46\n",
              "4   33    male  22.7         0      no  northwest  21984.47"
            ],
            "text/html": [
              "\n",
              "  <div id=\"df-8093aa93-9689-47da-ae21-ef1cfa83d7cd\">\n",
              "    <div class=\"colab-df-container\">\n",
              "      <div>\n",
              "<style scoped>\n",
              "    .dataframe tbody tr th:only-of-type {\n",
              "        vertical-align: middle;\n",
              "    }\n",
              "\n",
              "    .dataframe tbody tr th {\n",
              "        vertical-align: top;\n",
              "    }\n",
              "\n",
              "    .dataframe thead th {\n",
              "        text-align: right;\n",
              "    }\n",
              "</style>\n",
              "<table border=\"1\" class=\"dataframe\">\n",
              "  <thead>\n",
              "    <tr style=\"text-align: right;\">\n",
              "      <th></th>\n",
              "      <th>age</th>\n",
              "      <th>sex</th>\n",
              "      <th>bmi</th>\n",
              "      <th>children</th>\n",
              "      <th>smoker</th>\n",
              "      <th>region</th>\n",
              "      <th>expenses</th>\n",
              "    </tr>\n",
              "  </thead>\n",
              "  <tbody>\n",
              "    <tr>\n",
              "      <th>0</th>\n",
              "      <td>age</td>\n",
              "      <td>sex</td>\n",
              "      <td>bmi</td>\n",
              "      <td>children</td>\n",
              "      <td>smoker</td>\n",
              "      <td>region</td>\n",
              "      <td>expenses</td>\n",
              "    </tr>\n",
              "    <tr>\n",
              "      <th>1</th>\n",
              "      <td>19</td>\n",
              "      <td>female</td>\n",
              "      <td>27.9</td>\n",
              "      <td>0</td>\n",
              "      <td>yes</td>\n",
              "      <td>southwest</td>\n",
              "      <td>16884.92</td>\n",
              "    </tr>\n",
              "    <tr>\n",
              "      <th>2</th>\n",
              "      <td>18</td>\n",
              "      <td>male</td>\n",
              "      <td>33.8</td>\n",
              "      <td>1</td>\n",
              "      <td>no</td>\n",
              "      <td>southeast</td>\n",
              "      <td>1725.55</td>\n",
              "    </tr>\n",
              "    <tr>\n",
              "      <th>3</th>\n",
              "      <td>28</td>\n",
              "      <td>male</td>\n",
              "      <td>33.0</td>\n",
              "      <td>3</td>\n",
              "      <td>no</td>\n",
              "      <td>southeast</td>\n",
              "      <td>4449.46</td>\n",
              "    </tr>\n",
              "    <tr>\n",
              "      <th>4</th>\n",
              "      <td>33</td>\n",
              "      <td>male</td>\n",
              "      <td>22.7</td>\n",
              "      <td>0</td>\n",
              "      <td>no</td>\n",
              "      <td>northwest</td>\n",
              "      <td>21984.47</td>\n",
              "    </tr>\n",
              "  </tbody>\n",
              "</table>\n",
              "</div>\n",
              "      <button class=\"colab-df-convert\" onclick=\"convertToInteractive('df-8093aa93-9689-47da-ae21-ef1cfa83d7cd')\"\n",
              "              title=\"Convert this dataframe to an interactive table.\"\n",
              "              style=\"display:none;\">\n",
              "        \n",
              "  <svg xmlns=\"http://www.w3.org/2000/svg\" height=\"24px\"viewBox=\"0 0 24 24\"\n",
              "       width=\"24px\">\n",
              "    <path d=\"M0 0h24v24H0V0z\" fill=\"none\"/>\n",
              "    <path d=\"M18.56 5.44l.94 2.06.94-2.06 2.06-.94-2.06-.94-.94-2.06-.94 2.06-2.06.94zm-11 1L8.5 8.5l.94-2.06 2.06-.94-2.06-.94L8.5 2.5l-.94 2.06-2.06.94zm10 10l.94 2.06.94-2.06 2.06-.94-2.06-.94-.94-2.06-.94 2.06-2.06.94z\"/><path d=\"M17.41 7.96l-1.37-1.37c-.4-.4-.92-.59-1.43-.59-.52 0-1.04.2-1.43.59L10.3 9.45l-7.72 7.72c-.78.78-.78 2.05 0 2.83L4 21.41c.39.39.9.59 1.41.59.51 0 1.02-.2 1.41-.59l7.78-7.78 2.81-2.81c.8-.78.8-2.07 0-2.86zM5.41 20L4 18.59l7.72-7.72 1.47 1.35L5.41 20z\"/>\n",
              "  </svg>\n",
              "      </button>\n",
              "      \n",
              "  <style>\n",
              "    .colab-df-container {\n",
              "      display:flex;\n",
              "      flex-wrap:wrap;\n",
              "      gap: 12px;\n",
              "    }\n",
              "\n",
              "    .colab-df-convert {\n",
              "      background-color: #E8F0FE;\n",
              "      border: none;\n",
              "      border-radius: 50%;\n",
              "      cursor: pointer;\n",
              "      display: none;\n",
              "      fill: #1967D2;\n",
              "      height: 32px;\n",
              "      padding: 0 0 0 0;\n",
              "      width: 32px;\n",
              "    }\n",
              "\n",
              "    .colab-df-convert:hover {\n",
              "      background-color: #E2EBFA;\n",
              "      box-shadow: 0px 1px 2px rgba(60, 64, 67, 0.3), 0px 1px 3px 1px rgba(60, 64, 67, 0.15);\n",
              "      fill: #174EA6;\n",
              "    }\n",
              "\n",
              "    [theme=dark] .colab-df-convert {\n",
              "      background-color: #3B4455;\n",
              "      fill: #D2E3FC;\n",
              "    }\n",
              "\n",
              "    [theme=dark] .colab-df-convert:hover {\n",
              "      background-color: #434B5C;\n",
              "      box-shadow: 0px 1px 3px 1px rgba(0, 0, 0, 0.15);\n",
              "      filter: drop-shadow(0px 1px 2px rgba(0, 0, 0, 0.3));\n",
              "      fill: #FFFFFF;\n",
              "    }\n",
              "  </style>\n",
              "\n",
              "      <script>\n",
              "        const buttonEl =\n",
              "          document.querySelector('#df-8093aa93-9689-47da-ae21-ef1cfa83d7cd button.colab-df-convert');\n",
              "        buttonEl.style.display =\n",
              "          google.colab.kernel.accessAllowed ? 'block' : 'none';\n",
              "\n",
              "        async function convertToInteractive(key) {\n",
              "          const element = document.querySelector('#df-8093aa93-9689-47da-ae21-ef1cfa83d7cd');\n",
              "          const dataTable =\n",
              "            await google.colab.kernel.invokeFunction('convertToInteractive',\n",
              "                                                     [key], {});\n",
              "          if (!dataTable) return;\n",
              "\n",
              "          const docLinkHtml = 'Like what you see? Visit the ' +\n",
              "            '<a target=\"_blank\" href=https://colab.research.google.com/notebooks/data_table.ipynb>data table notebook</a>'\n",
              "            + ' to learn more about interactive tables.';\n",
              "          element.innerHTML = '';\n",
              "          dataTable['output_type'] = 'display_data';\n",
              "          await google.colab.output.renderOutput(dataTable, element);\n",
              "          const docLink = document.createElement('div');\n",
              "          docLink.innerHTML = docLinkHtml;\n",
              "          element.appendChild(docLink);\n",
              "        }\n",
              "      </script>\n",
              "    </div>\n",
              "  </div>\n",
              "  "
            ]
          },
          "metadata": {},
          "execution_count": 17
        }
      ],
      "source": [
        "cols = ['age', 'sex', 'bmi', 'children', 'smoker', 'region', 'expenses']\n",
        "insurance = pd.read_csv('./insurance.csv', names=cols)\n",
        "print(insurance.shape)\n",
        "insurance.head()"
      ]
    },
    {
      "cell_type": "code",
      "execution_count": null,
      "metadata": {
        "colab": {
          "base_uri": "https://localhost:8080/"
        },
        "id": "fwrqZ9HiFW9D",
        "outputId": "89d08c5f-6481-4b2d-d858-fea54a63ca10"
      },
      "outputs": [
        {
          "output_type": "stream",
          "name": "stdout",
          "text": [
            "['0' '1' '10043.25' ... 'southeast' 'southwest' 'yes']\n"
          ]
        }
      ],
      "source": [
        "insurance.describe()\n",
        "insurance.dtypes\n",
        "print(np.unique(insurance.values))"
      ]
    },
    {
      "cell_type": "code",
      "execution_count": null,
      "metadata": {
        "colab": {
          "base_uri": "https://localhost:8080/",
          "height": 206
        },
        "id": "8Dtv33H_IiLq",
        "outputId": "61f5242a-537b-4ac5-93ca-ba8fd02b278e"
      },
      "outputs": [
        {
          "output_type": "execute_result",
          "data": {
            "text/plain": [
              "   age  sex   bmi  children  smoker  region  expenses\n",
              "0  age  sex   bmi  children  smoker  region  expenses\n",
              "1   19    0  27.9         0       1       2  16884.92\n",
              "2   18    1  33.8         1       0       1   1725.55\n",
              "3   28    1  33.0         3       0       1   4449.46\n",
              "4   33    1  22.7         0       0       3  21984.47"
            ],
            "text/html": [
              "\n",
              "  <div id=\"df-69f08b63-b639-467c-abf2-7110bdbd144a\">\n",
              "    <div class=\"colab-df-container\">\n",
              "      <div>\n",
              "<style scoped>\n",
              "    .dataframe tbody tr th:only-of-type {\n",
              "        vertical-align: middle;\n",
              "    }\n",
              "\n",
              "    .dataframe tbody tr th {\n",
              "        vertical-align: top;\n",
              "    }\n",
              "\n",
              "    .dataframe thead th {\n",
              "        text-align: right;\n",
              "    }\n",
              "</style>\n",
              "<table border=\"1\" class=\"dataframe\">\n",
              "  <thead>\n",
              "    <tr style=\"text-align: right;\">\n",
              "      <th></th>\n",
              "      <th>age</th>\n",
              "      <th>sex</th>\n",
              "      <th>bmi</th>\n",
              "      <th>children</th>\n",
              "      <th>smoker</th>\n",
              "      <th>region</th>\n",
              "      <th>expenses</th>\n",
              "    </tr>\n",
              "  </thead>\n",
              "  <tbody>\n",
              "    <tr>\n",
              "      <th>0</th>\n",
              "      <td>age</td>\n",
              "      <td>sex</td>\n",
              "      <td>bmi</td>\n",
              "      <td>children</td>\n",
              "      <td>smoker</td>\n",
              "      <td>region</td>\n",
              "      <td>expenses</td>\n",
              "    </tr>\n",
              "    <tr>\n",
              "      <th>1</th>\n",
              "      <td>19</td>\n",
              "      <td>0</td>\n",
              "      <td>27.9</td>\n",
              "      <td>0</td>\n",
              "      <td>1</td>\n",
              "      <td>2</td>\n",
              "      <td>16884.92</td>\n",
              "    </tr>\n",
              "    <tr>\n",
              "      <th>2</th>\n",
              "      <td>18</td>\n",
              "      <td>1</td>\n",
              "      <td>33.8</td>\n",
              "      <td>1</td>\n",
              "      <td>0</td>\n",
              "      <td>1</td>\n",
              "      <td>1725.55</td>\n",
              "    </tr>\n",
              "    <tr>\n",
              "      <th>3</th>\n",
              "      <td>28</td>\n",
              "      <td>1</td>\n",
              "      <td>33.0</td>\n",
              "      <td>3</td>\n",
              "      <td>0</td>\n",
              "      <td>1</td>\n",
              "      <td>4449.46</td>\n",
              "    </tr>\n",
              "    <tr>\n",
              "      <th>4</th>\n",
              "      <td>33</td>\n",
              "      <td>1</td>\n",
              "      <td>22.7</td>\n",
              "      <td>0</td>\n",
              "      <td>0</td>\n",
              "      <td>3</td>\n",
              "      <td>21984.47</td>\n",
              "    </tr>\n",
              "  </tbody>\n",
              "</table>\n",
              "</div>\n",
              "      <button class=\"colab-df-convert\" onclick=\"convertToInteractive('df-69f08b63-b639-467c-abf2-7110bdbd144a')\"\n",
              "              title=\"Convert this dataframe to an interactive table.\"\n",
              "              style=\"display:none;\">\n",
              "        \n",
              "  <svg xmlns=\"http://www.w3.org/2000/svg\" height=\"24px\"viewBox=\"0 0 24 24\"\n",
              "       width=\"24px\">\n",
              "    <path d=\"M0 0h24v24H0V0z\" fill=\"none\"/>\n",
              "    <path d=\"M18.56 5.44l.94 2.06.94-2.06 2.06-.94-2.06-.94-.94-2.06-.94 2.06-2.06.94zm-11 1L8.5 8.5l.94-2.06 2.06-.94-2.06-.94L8.5 2.5l-.94 2.06-2.06.94zm10 10l.94 2.06.94-2.06 2.06-.94-2.06-.94-.94-2.06-.94 2.06-2.06.94z\"/><path d=\"M17.41 7.96l-1.37-1.37c-.4-.4-.92-.59-1.43-.59-.52 0-1.04.2-1.43.59L10.3 9.45l-7.72 7.72c-.78.78-.78 2.05 0 2.83L4 21.41c.39.39.9.59 1.41.59.51 0 1.02-.2 1.41-.59l7.78-7.78 2.81-2.81c.8-.78.8-2.07 0-2.86zM5.41 20L4 18.59l7.72-7.72 1.47 1.35L5.41 20z\"/>\n",
              "  </svg>\n",
              "      </button>\n",
              "      \n",
              "  <style>\n",
              "    .colab-df-container {\n",
              "      display:flex;\n",
              "      flex-wrap:wrap;\n",
              "      gap: 12px;\n",
              "    }\n",
              "\n",
              "    .colab-df-convert {\n",
              "      background-color: #E8F0FE;\n",
              "      border: none;\n",
              "      border-radius: 50%;\n",
              "      cursor: pointer;\n",
              "      display: none;\n",
              "      fill: #1967D2;\n",
              "      height: 32px;\n",
              "      padding: 0 0 0 0;\n",
              "      width: 32px;\n",
              "    }\n",
              "\n",
              "    .colab-df-convert:hover {\n",
              "      background-color: #E2EBFA;\n",
              "      box-shadow: 0px 1px 2px rgba(60, 64, 67, 0.3), 0px 1px 3px 1px rgba(60, 64, 67, 0.15);\n",
              "      fill: #174EA6;\n",
              "    }\n",
              "\n",
              "    [theme=dark] .colab-df-convert {\n",
              "      background-color: #3B4455;\n",
              "      fill: #D2E3FC;\n",
              "    }\n",
              "\n",
              "    [theme=dark] .colab-df-convert:hover {\n",
              "      background-color: #434B5C;\n",
              "      box-shadow: 0px 1px 3px 1px rgba(0, 0, 0, 0.15);\n",
              "      filter: drop-shadow(0px 1px 2px rgba(0, 0, 0, 0.3));\n",
              "      fill: #FFFFFF;\n",
              "    }\n",
              "  </style>\n",
              "\n",
              "      <script>\n",
              "        const buttonEl =\n",
              "          document.querySelector('#df-69f08b63-b639-467c-abf2-7110bdbd144a button.colab-df-convert');\n",
              "        buttonEl.style.display =\n",
              "          google.colab.kernel.accessAllowed ? 'block' : 'none';\n",
              "\n",
              "        async function convertToInteractive(key) {\n",
              "          const element = document.querySelector('#df-69f08b63-b639-467c-abf2-7110bdbd144a');\n",
              "          const dataTable =\n",
              "            await google.colab.kernel.invokeFunction('convertToInteractive',\n",
              "                                                     [key], {});\n",
              "          if (!dataTable) return;\n",
              "\n",
              "          const docLinkHtml = 'Like what you see? Visit the ' +\n",
              "            '<a target=\"_blank\" href=https://colab.research.google.com/notebooks/data_table.ipynb>data table notebook</a>'\n",
              "            + ' to learn more about interactive tables.';\n",
              "          element.innerHTML = '';\n",
              "          dataTable['output_type'] = 'display_data';\n",
              "          await google.colab.output.renderOutput(dataTable, element);\n",
              "          const docLink = document.createElement('div');\n",
              "          docLink.innerHTML = docLinkHtml;\n",
              "          element.appendChild(docLink);\n",
              "        }\n",
              "      </script>\n",
              "    </div>\n",
              "  </div>\n",
              "  "
            ]
          },
          "metadata": {},
          "execution_count": 19
        }
      ],
      "source": [
        "from sklearn import preprocessing\n",
        "cleanup_nums = {\"sex\":     {\"female\": 0, \"male\": 1},\n",
        "                \"smoker\": {\"no\": 0, \"yes\": 1},\n",
        "                \"region\": {'northeast': 0, 'southeast': 1,'southwest' : 2, 'northwest': 3}}\n",
        "insurance = insurance.replace(cleanup_nums)\n",
        "insurance.head()\n",
        "\n",
        "              "
      ]
    },
    {
      "cell_type": "code",
      "execution_count": null,
      "metadata": {
        "id": "KDMmDoSOLMSv"
      },
      "outputs": [],
      "source": [
        "insurance[\"sex\"] = pd.to_numeric(insurance.sex, errors='coerce')\n",
        "insurance[\"age\"] = pd.to_numeric(insurance.age, errors='coerce')\n",
        "insurance[\"bmi\"] = pd.to_numeric(insurance.bmi, errors='coerce')\n",
        "insurance[\"children\"] = pd.to_numeric(insurance.children, errors='coerce')\n",
        "insurance[\"smoker\"] = pd.to_numeric(insurance.smoker, errors='coerce')\n",
        "insurance[\"region\"] = pd.to_numeric(insurance.region, errors='coerce')\n",
        "insurance[\"expenses\"] = pd.to_numeric(insurance.expenses, errors='coerce')"
      ]
    },
    {
      "cell_type": "code",
      "execution_count": null,
      "metadata": {
        "colab": {
          "base_uri": "https://localhost:8080/"
        },
        "id": "OHaViHjHSLLE",
        "outputId": "0dd59e27-90ba-4c69-b492-0a22527e578c"
      },
      "outputs": [
        {
          "output_type": "execute_result",
          "data": {
            "text/plain": [
              "(1338, 7)"
            ]
          },
          "metadata": {},
          "execution_count": 21
        }
      ],
      "source": [
        "insurance = insurance.dropna()\n",
        "insurance.shape"
      ]
    },
    {
      "cell_type": "code",
      "source": [
        "sns.scatterplot(x=insurance['bmi'], y=insurance['expenses'], hue=insurance['smoker'])\n",
        "sns.rugplot(x=insurance['bmi'], y=insurance['expenses'])\n"
      ],
      "metadata": {
        "colab": {
          "base_uri": "https://localhost:8080/",
          "height": 299
        },
        "id": "IO0CT9sY9ot0",
        "outputId": "289a8428-7274-4d76-9eb3-bda99dbb5d90"
      },
      "execution_count": 129,
      "outputs": [
        {
          "output_type": "execute_result",
          "data": {
            "text/plain": [
              "<matplotlib.axes._subplots.AxesSubplot at 0x7f4a8e8dcb90>"
            ]
          },
          "metadata": {},
          "execution_count": 129
        },
        {
          "output_type": "display_data",
          "data": {
            "text/plain": [
              "<Figure size 432x288 with 1 Axes>"
            ],
            "image/png": "[encoded data removed]"
          },
          "metadata": {
            "needs_background": "light"
          }
        }
      ]
    },
    {
      "cell_type": "code",
      "source": [
        "sns.scatterplot(x=insurance['age'], y=insurance['expenses'])\n",
        "sns.rugplot(x=insurance['age'], y=insurance['expenses'])\n",
        "sns.lmplot(x=\"age\", y=\"expenses\", data=insurance)"
      ],
      "metadata": {
        "colab": {
          "base_uri": "https://localhost:8080/",
          "height": 651
        },
        "id": "_262fNco-RSv",
        "outputId": "85e455e1-8eaa-43d3-894e-7fd13a791ad0"
      },
      "execution_count": 130,
      "outputs": [
        {
          "output_type": "execute_result",
          "data": {
            "text/plain": [
              "<seaborn.axisgrid.FacetGrid at 0x7f4a8e655c90>"
            ]
          },
          "metadata": {},
          "execution_count": 130
        },
        {
          "output_type": "display_data",
          "data": {
            "text/plain": [
              "<Figure size 432x288 with 1 Axes>"
            ],
            "image/png": "[encoded data removed]"
          },
          "metadata": {
            "needs_background": "light"
          }
        },
        {
          "output_type": "display_data",
          "data": {
            "text/plain": [
              "<Figure size 360x360 with 1 Axes>"
            ],
            "image/png": "[encoded data removed]"
          },
          "metadata": {
            "needs_background": "light"
          }
        }
      ]
    },
    {
      "cell_type": "code",
      "source": [
        "sns.scatterplot(x = insurance['children'], y = insurance['expenses'])\n"
      ],
      "metadata": {
        "colab": {
          "base_uri": "https://localhost:8080/",
          "height": 296
        },
        "id": "oJCtlq3t_v_g",
        "outputId": "20c029a1-dd05-4f5e-e500-e01a0030c764"
      },
      "execution_count": null,
      "outputs": [
        {
          "output_type": "execute_result",
          "data": {
            "text/plain": [
              "<matplotlib.axes._subplots.AxesSubplot at 0x7f4a9016d910>"
            ]
          },
          "metadata": {},
          "execution_count": 122
        },
        {
          "output_type": "display_data",
          "data": {
            "text/plain": [
              "<Figure size 432x288 with 1 Axes>"
            ],
            "image/png": "[encoded data removed]"
          },
          "metadata": {
            "needs_background": "light"
          }
        }
      ]
    },
    {
      "cell_type": "code",
      "execution_count": null,
      "metadata": {
        "colab": {
          "base_uri": "https://localhost:8080/"
        },
        "id": "gyYbaokQNLdl",
        "outputId": "c880e790-a75d-41e4-d597-6043b83b6584"
      },
      "outputs": [
        {
          "output_type": "execute_result",
          "data": {
            "text/plain": [
              "age         float64\n",
              "sex         float64\n",
              "bmi         float64\n",
              "children    float64\n",
              "smoker      float64\n",
              "region      float64\n",
              "expenses    float64\n",
              "dtype: object"
            ]
          },
          "metadata": {},
          "execution_count": 47
        }
      ],
      "source": [
        "insurance.dtypes"
      ]
    },
    {
      "cell_type": "markdown",
      "metadata": {
        "id": "aUQHT-P8VoVi"
      },
      "source": [
        "**Normallize**"
      ]
    },
    {
      "cell_type": "code",
      "execution_count": null,
      "metadata": {
        "colab": {
          "base_uri": "https://localhost:8080/",
          "height": 424
        },
        "id": "cJ_lBYvVVePL",
        "outputId": "5191fb2e-5ca1-46c7-cc6f-a24e7443326a"
      },
      "outputs": [
        {
          "output_type": "execute_result",
          "data": {
            "text/plain": [
              "       age  sex   bmi  children  smoker  region  expenses\n",
              "1     19.0  0.0  27.9       0.0     1.0     2.0  16884.92\n",
              "2     18.0  1.0  33.8       1.0     0.0     1.0   1725.55\n",
              "3     28.0  1.0  33.0       3.0     0.0     1.0   4449.46\n",
              "4     33.0  1.0  22.7       0.0     0.0     3.0  21984.47\n",
              "5     32.0  1.0  28.9       0.0     0.0     3.0   3866.86\n",
              "...    ...  ...   ...       ...     ...     ...       ...\n",
              "1334  50.0  1.0  31.0       3.0     0.0     3.0  10600.55\n",
              "1335  18.0  0.0  31.9       0.0     0.0     0.0   2205.98\n",
              "1336  18.0  0.0  36.9       0.0     0.0     1.0   1629.83\n",
              "1337  21.0  0.0  25.8       0.0     0.0     2.0   2007.95\n",
              "1338  61.0  0.0  29.1       0.0     1.0     3.0  29141.36\n",
              "\n",
              "[1338 rows x 7 columns]"
            ],
            "text/html": [
              "\n",
              "  <div id=\"df-eb641087-11e3-4fa4-9eb8-921e40166bc9\">\n",
              "    <div class=\"colab-df-container\">\n",
              "      <div>\n",
              "<style scoped>\n",
              "    .dataframe tbody tr th:only-of-type {\n",
              "        vertical-align: middle;\n",
              "    }\n",
              "\n",
              "    .dataframe tbody tr th {\n",
              "        vertical-align: top;\n",
              "    }\n",
              "\n",
              "    .dataframe thead th {\n",
              "        text-align: right;\n",
              "    }\n",
              "</style>\n",
              "<table border=\"1\" class=\"dataframe\">\n",
              "  <thead>\n",
              "    <tr style=\"text-align: right;\">\n",
              "      <th></th>\n",
              "      <th>age</th>\n",
              "      <th>sex</th>\n",
              "      <th>bmi</th>\n",
              "      <th>children</th>\n",
              "      <th>smoker</th>\n",
              "      <th>region</th>\n",
              "      <th>expenses</th>\n",
              "    </tr>\n",
              "  </thead>\n",
              "  <tbody>\n",
              "    <tr>\n",
              "      <th>1</th>\n",
              "      <td>19.0</td>\n",
              "      <td>0.0</td>\n",
              "      <td>27.9</td>\n",
              "      <td>0.0</td>\n",
              "      <td>1.0</td>\n",
              "      <td>2.0</td>\n",
              "      <td>16884.92</td>\n",
              "    </tr>\n",
              "    <tr>\n",
              "      <th>2</th>\n",
              "      <td>18.0</td>\n",
              "      <td>1.0</td>\n",
              "      <td>33.8</td>\n",
              "      <td>1.0</td>\n",
              "      <td>0.0</td>\n",
              "      <td>1.0</td>\n",
              "      <td>1725.55</td>\n",
              "    </tr>\n",
              "    <tr>\n",
              "      <th>3</th>\n",
              "      <td>28.0</td>\n",
              "      <td>1.0</td>\n",
              "      <td>33.0</td>\n",
              "      <td>3.0</td>\n",
              "      <td>0.0</td>\n",
              "      <td>1.0</td>\n",
              "      <td>4449.46</td>\n",
              "    </tr>\n",
              "    <tr>\n",
              "      <th>4</th>\n",
              "      <td>33.0</td>\n",
              "      <td>1.0</td>\n",
              "      <td>22.7</td>\n",
              "      <td>0.0</td>\n",
              "      <td>0.0</td>\n",
              "      <td>3.0</td>\n",
              "      <td>21984.47</td>\n",
              "    </tr>\n",
              "    <tr>\n",
              "      <th>5</th>\n",
              "      <td>32.0</td>\n",
              "      <td>1.0</td>\n",
              "      <td>28.9</td>\n",
              "      <td>0.0</td>\n",
              "      <td>0.0</td>\n",
              "      <td>3.0</td>\n",
              "      <td>3866.86</td>\n",
              "    </tr>\n",
              "    <tr>\n",
              "      <th>...</th>\n",
              "      <td>...</td>\n",
              "      <td>...</td>\n",
              "      <td>...</td>\n",
              "      <td>...</td>\n",
              "      <td>...</td>\n",
              "      <td>...</td>\n",
              "      <td>...</td>\n",
              "    </tr>\n",
              "    <tr>\n",
              "      <th>1334</th>\n",
              "      <td>50.0</td>\n",
              "      <td>1.0</td>\n",
              "      <td>31.0</td>\n",
              "      <td>3.0</td>\n",
              "      <td>0.0</td>\n",
              "      <td>3.0</td>\n",
              "      <td>10600.55</td>\n",
              "    </tr>\n",
              "    <tr>\n",
              "      <th>1335</th>\n",
              "      <td>18.0</td>\n",
              "      <td>0.0</td>\n",
              "      <td>31.9</td>\n",
              "      <td>0.0</td>\n",
              "      <td>0.0</td>\n",
              "      <td>0.0</td>\n",
              "      <td>2205.98</td>\n",
              "    </tr>\n",
              "    <tr>\n",
              "      <th>1336</th>\n",
              "      <td>18.0</td>\n",
              "      <td>0.0</td>\n",
              "      <td>36.9</td>\n",
              "      <td>0.0</td>\n",
              "      <td>0.0</td>\n",
              "      <td>1.0</td>\n",
              "      <td>1629.83</td>\n",
              "    </tr>\n",
              "    <tr>\n",
              "      <th>1337</th>\n",
              "      <td>21.0</td>\n",
              "      <td>0.0</td>\n",
              "      <td>25.8</td>\n",
              "      <td>0.0</td>\n",
              "      <td>0.0</td>\n",
              "      <td>2.0</td>\n",
              "      <td>2007.95</td>\n",
              "    </tr>\n",
              "    <tr>\n",
              "      <th>1338</th>\n",
              "      <td>61.0</td>\n",
              "      <td>0.0</td>\n",
              "      <td>29.1</td>\n",
              "      <td>0.0</td>\n",
              "      <td>1.0</td>\n",
              "      <td>3.0</td>\n",
              "      <td>29141.36</td>\n",
              "    </tr>\n",
              "  </tbody>\n",
              "</table>\n",
              "<p>1338 rows × 7 columns</p>\n",
              "</div>\n",
              "      <button class=\"colab-df-convert\" onclick=\"convertToInteractive('df-eb641087-11e3-4fa4-9eb8-921e40166bc9')\"\n",
              "              title=\"Convert this dataframe to an interactive table.\"\n",
              "              style=\"display:none;\">\n",
              "        \n",
              "  <svg xmlns=\"http://www.w3.org/2000/svg\" height=\"24px\"viewBox=\"0 0 24 24\"\n",
              "       width=\"24px\">\n",
              "    <path d=\"M0 0h24v24H0V0z\" fill=\"none\"/>\n",
              "    <path d=\"M18.56 5.44l.94 2.06.94-2.06 2.06-.94-2.06-.94-.94-2.06-.94 2.06-2.06.94zm-11 1L8.5 8.5l.94-2.06 2.06-.94-2.06-.94L8.5 2.5l-.94 2.06-2.06.94zm10 10l.94 2.06.94-2.06 2.06-.94-2.06-.94-.94-2.06-.94 2.06-2.06.94z\"/><path d=\"M17.41 7.96l-1.37-1.37c-.4-.4-.92-.59-1.43-.59-.52 0-1.04.2-1.43.59L10.3 9.45l-7.72 7.72c-.78.78-.78 2.05 0 2.83L4 21.41c.39.39.9.59 1.41.59.51 0 1.02-.2 1.41-.59l7.78-7.78 2.81-2.81c.8-.78.8-2.07 0-2.86zM5.41 20L4 18.59l7.72-7.72 1.47 1.35L5.41 20z\"/>\n",
              "  </svg>\n",
              "      </button>\n",
              "      \n",
              "  <style>\n",
              "    .colab-df-container {\n",
              "      display:flex;\n",
              "      flex-wrap:wrap;\n",
              "      gap: 12px;\n",
              "    }\n",
              "\n",
              "    .colab-df-convert {\n",
              "      background-color: #E8F0FE;\n",
              "      border: none;\n",
              "      border-radius: 50%;\n",
              "      cursor: pointer;\n",
              "      display: none;\n",
              "      fill: #1967D2;\n",
              "      height: 32px;\n",
              "      padding: 0 0 0 0;\n",
              "      width: 32px;\n",
              "    }\n",
              "\n",
              "    .colab-df-convert:hover {\n",
              "      background-color: #E2EBFA;\n",
              "      box-shadow: 0px 1px 2px rgba(60, 64, 67, 0.3), 0px 1px 3px 1px rgba(60, 64, 67, 0.15);\n",
              "      fill: #174EA6;\n",
              "    }\n",
              "\n",
              "    [theme=dark] .colab-df-convert {\n",
              "      background-color: #3B4455;\n",
              "      fill: #D2E3FC;\n",
              "    }\n",
              "\n",
              "    [theme=dark] .colab-df-convert:hover {\n",
              "      background-color: #434B5C;\n",
              "      box-shadow: 0px 1px 3px 1px rgba(0, 0, 0, 0.15);\n",
              "      filter: drop-shadow(0px 1px 2px rgba(0, 0, 0, 0.3));\n",
              "      fill: #FFFFFF;\n",
              "    }\n",
              "  </style>\n",
              "\n",
              "      <script>\n",
              "        const buttonEl =\n",
              "          document.querySelector('#df-eb641087-11e3-4fa4-9eb8-921e40166bc9 button.colab-df-convert');\n",
              "        buttonEl.style.display =\n",
              "          google.colab.kernel.accessAllowed ? 'block' : 'none';\n",
              "\n",
              "        async function convertToInteractive(key) {\n",
              "          const element = document.querySelector('#df-eb641087-11e3-4fa4-9eb8-921e40166bc9');\n",
              "          const dataTable =\n",
              "            await google.colab.kernel.invokeFunction('convertToInteractive',\n",
              "                                                     [key], {});\n",
              "          if (!dataTable) return;\n",
              "\n",
              "          const docLinkHtml = 'Like what you see? Visit the ' +\n",
              "            '<a target=\"_blank\" href=https://colab.research.google.com/notebooks/data_table.ipynb>data table notebook</a>'\n",
              "            + ' to learn more about interactive tables.';\n",
              "          element.innerHTML = '';\n",
              "          dataTable['output_type'] = 'display_data';\n",
              "          await google.colab.output.renderOutput(dataTable, element);\n",
              "          const docLink = document.createElement('div');\n",
              "          docLink.innerHTML = docLinkHtml;\n",
              "          element.appendChild(docLink);\n",
              "        }\n",
              "      </script>\n",
              "    </div>\n",
              "  </div>\n",
              "  "
            ]
          },
          "metadata": {},
          "execution_count": 48
        }
      ],
      "source": [
        "insurance"
      ]
    },
    {
      "cell_type": "code",
      "execution_count": null,
      "metadata": {
        "colab": {
          "base_uri": "https://localhost:8080/",
          "height": 424
        },
        "id": "kXGynGGOVlTV",
        "outputId": "0da2ef0c-700a-4927-dd79-2990ffe4493d"
      },
      "outputs": [
        {
          "output_type": "execute_result",
          "data": {
            "text/plain": [
              "           age  sex       bmi  children  smoker    region  expenses\n",
              "1     0.021739  0.0  0.320755       0.0     1.0  0.666667  16884.92\n",
              "2     0.000000  1.0  0.479784       0.2     0.0  0.333333   1725.55\n",
              "3     0.217391  1.0  0.458221       0.6     0.0  0.333333   4449.46\n",
              "4     0.326087  1.0  0.180593       0.0     0.0  1.000000  21984.47\n",
              "5     0.304348  1.0  0.347709       0.0     0.0  1.000000   3866.86\n",
              "...        ...  ...       ...       ...     ...       ...       ...\n",
              "1334  0.695652  1.0  0.404313       0.6     0.0  1.000000  10600.55\n",
              "1335  0.000000  0.0  0.428571       0.0     0.0  0.000000   2205.98\n",
              "1336  0.000000  0.0  0.563342       0.0     0.0  0.333333   1629.83\n",
              "1337  0.065217  0.0  0.264151       0.0     0.0  0.666667   2007.95\n",
              "1338  0.934783  0.0  0.353100       0.0     1.0  1.000000  29141.36\n",
              "\n",
              "[1338 rows x 7 columns]"
            ],
            "text/html": [
              "\n",
              "  <div id=\"df-e4144052-da05-4f14-8520-7e97927ef269\">\n",
              "    <div class=\"colab-df-container\">\n",
              "      <div>\n",
              "<style scoped>\n",
              "    .dataframe tbody tr th:only-of-type {\n",
              "        vertical-align: middle;\n",
              "    }\n",
              "\n",
              "    .dataframe tbody tr th {\n",
              "        vertical-align: top;\n",
              "    }\n",
              "\n",
              "    .dataframe thead th {\n",
              "        text-align: right;\n",
              "    }\n",
              "</style>\n",
              "<table border=\"1\" class=\"dataframe\">\n",
              "  <thead>\n",
              "    <tr style=\"text-align: right;\">\n",
              "      <th></th>\n",
              "      <th>age</th>\n",
              "      <th>sex</th>\n",
              "      <th>bmi</th>\n",
              "      <th>children</th>\n",
              "      <th>smoker</th>\n",
              "      <th>region</th>\n",
              "      <th>expenses</th>\n",
              "    </tr>\n",
              "  </thead>\n",
              "  <tbody>\n",
              "    <tr>\n",
              "      <th>1</th>\n",
              "      <td>0.021739</td>\n",
              "      <td>0.0</td>\n",
              "      <td>0.320755</td>\n",
              "      <td>0.0</td>\n",
              "      <td>1.0</td>\n",
              "      <td>0.666667</td>\n",
              "      <td>16884.92</td>\n",
              "    </tr>\n",
              "    <tr>\n",
              "      <th>2</th>\n",
              "      <td>0.000000</td>\n",
              "      <td>1.0</td>\n",
              "      <td>0.479784</td>\n",
              "      <td>0.2</td>\n",
              "      <td>0.0</td>\n",
              "      <td>0.333333</td>\n",
              "      <td>1725.55</td>\n",
              "    </tr>\n",
              "    <tr>\n",
              "      <th>3</th>\n",
              "      <td>0.217391</td>\n",
              "      <td>1.0</td>\n",
              "      <td>0.458221</td>\n",
              "      <td>0.6</td>\n",
              "      <td>0.0</td>\n",
              "      <td>0.333333</td>\n",
              "      <td>4449.46</td>\n",
              "    </tr>\n",
              "    <tr>\n",
              "      <th>4</th>\n",
              "      <td>0.326087</td>\n",
              "      <td>1.0</td>\n",
              "      <td>0.180593</td>\n",
              "      <td>0.0</td>\n",
              "      <td>0.0</td>\n",
              "      <td>1.000000</td>\n",
              "      <td>21984.47</td>\n",
              "    </tr>\n",
              "    <tr>\n",
              "      <th>5</th>\n",
              "      <td>0.304348</td>\n",
              "      <td>1.0</td>\n",
              "      <td>0.347709</td>\n",
              "      <td>0.0</td>\n",
              "      <td>0.0</td>\n",
              "      <td>1.000000</td>\n",
              "      <td>3866.86</td>\n",
              "    </tr>\n",
              "    <tr>\n",
              "      <th>...</th>\n",
              "      <td>...</td>\n",
              "      <td>...</td>\n",
              "      <td>...</td>\n",
              "      <td>...</td>\n",
              "      <td>...</td>\n",
              "      <td>...</td>\n",
              "      <td>...</td>\n",
              "    </tr>\n",
              "    <tr>\n",
              "      <th>1334</th>\n",
              "      <td>0.695652</td>\n",
              "      <td>1.0</td>\n",
              "      <td>0.404313</td>\n",
              "      <td>0.6</td>\n",
              "      <td>0.0</td>\n",
              "      <td>1.000000</td>\n",
              "      <td>10600.55</td>\n",
              "    </tr>\n",
              "    <tr>\n",
              "      <th>1335</th>\n",
              "      <td>0.000000</td>\n",
              "      <td>0.0</td>\n",
              "      <td>0.428571</td>\n",
              "      <td>0.0</td>\n",
              "      <td>0.0</td>\n",
              "      <td>0.000000</td>\n",
              "      <td>2205.98</td>\n",
              "    </tr>\n",
              "    <tr>\n",
              "      <th>1336</th>\n",
              "      <td>0.000000</td>\n",
              "      <td>0.0</td>\n",
              "      <td>0.563342</td>\n",
              "      <td>0.0</td>\n",
              "      <td>0.0</td>\n",
              "      <td>0.333333</td>\n",
              "      <td>1629.83</td>\n",
              "    </tr>\n",
              "    <tr>\n",
              "      <th>1337</th>\n",
              "      <td>0.065217</td>\n",
              "      <td>0.0</td>\n",
              "      <td>0.264151</td>\n",
              "      <td>0.0</td>\n",
              "      <td>0.0</td>\n",
              "      <td>0.666667</td>\n",
              "      <td>2007.95</td>\n",
              "    </tr>\n",
              "    <tr>\n",
              "      <th>1338</th>\n",
              "      <td>0.934783</td>\n",
              "      <td>0.0</td>\n",
              "      <td>0.353100</td>\n",
              "      <td>0.0</td>\n",
              "      <td>1.0</td>\n",
              "      <td>1.000000</td>\n",
              "      <td>29141.36</td>\n",
              "    </tr>\n",
              "  </tbody>\n",
              "</table>\n",
              "<p>1338 rows × 7 columns</p>\n",
              "</div>\n",
              "      <button class=\"colab-df-convert\" onclick=\"convertToInteractive('df-e4144052-da05-4f14-8520-7e97927ef269')\"\n",
              "              title=\"Convert this dataframe to an interactive table.\"\n",
              "              style=\"display:none;\">\n",
              "        \n",
              "  <svg xmlns=\"http://www.w3.org/2000/svg\" height=\"24px\"viewBox=\"0 0 24 24\"\n",
              "       width=\"24px\">\n",
              "    <path d=\"M0 0h24v24H0V0z\" fill=\"none\"/>\n",
              "    <path d=\"M18.56 5.44l.94 2.06.94-2.06 2.06-.94-2.06-.94-.94-2.06-.94 2.06-2.06.94zm-11 1L8.5 8.5l.94-2.06 2.06-.94-2.06-.94L8.5 2.5l-.94 2.06-2.06.94zm10 10l.94 2.06.94-2.06 2.06-.94-2.06-.94-.94-2.06-.94 2.06-2.06.94z\"/><path d=\"M17.41 7.96l-1.37-1.37c-.4-.4-.92-.59-1.43-.59-.52 0-1.04.2-1.43.59L10.3 9.45l-7.72 7.72c-.78.78-.78 2.05 0 2.83L4 21.41c.39.39.9.59 1.41.59.51 0 1.02-.2 1.41-.59l7.78-7.78 2.81-2.81c.8-.78.8-2.07 0-2.86zM5.41 20L4 18.59l7.72-7.72 1.47 1.35L5.41 20z\"/>\n",
              "  </svg>\n",
              "      </button>\n",
              "      \n",
              "  <style>\n",
              "    .colab-df-container {\n",
              "      display:flex;\n",
              "      flex-wrap:wrap;\n",
              "      gap: 12px;\n",
              "    }\n",
              "\n",
              "    .colab-df-convert {\n",
              "      background-color: #E8F0FE;\n",
              "      border: none;\n",
              "      border-radius: 50%;\n",
              "      cursor: pointer;\n",
              "      display: none;\n",
              "      fill: #1967D2;\n",
              "      height: 32px;\n",
              "      padding: 0 0 0 0;\n",
              "      width: 32px;\n",
              "    }\n",
              "\n",
              "    .colab-df-convert:hover {\n",
              "      background-color: #E2EBFA;\n",
              "      box-shadow: 0px 1px 2px rgba(60, 64, 67, 0.3), 0px 1px 3px 1px rgba(60, 64, 67, 0.15);\n",
              "      fill: #174EA6;\n",
              "    }\n",
              "\n",
              "    [theme=dark] .colab-df-convert {\n",
              "      background-color: #3B4455;\n",
              "      fill: #D2E3FC;\n",
              "    }\n",
              "\n",
              "    [theme=dark] .colab-df-convert:hover {\n",
              "      background-color: #434B5C;\n",
              "      box-shadow: 0px 1px 3px 1px rgba(0, 0, 0, 0.15);\n",
              "      filter: drop-shadow(0px 1px 2px rgba(0, 0, 0, 0.3));\n",
              "      fill: #FFFFFF;\n",
              "    }\n",
              "  </style>\n",
              "\n",
              "      <script>\n",
              "        const buttonEl =\n",
              "          document.querySelector('#df-e4144052-da05-4f14-8520-7e97927ef269 button.colab-df-convert');\n",
              "        buttonEl.style.display =\n",
              "          google.colab.kernel.accessAllowed ? 'block' : 'none';\n",
              "\n",
              "        async function convertToInteractive(key) {\n",
              "          const element = document.querySelector('#df-e4144052-da05-4f14-8520-7e97927ef269');\n",
              "          const dataTable =\n",
              "            await google.colab.kernel.invokeFunction('convertToInteractive',\n",
              "                                                     [key], {});\n",
              "          if (!dataTable) return;\n",
              "\n",
              "          const docLinkHtml = 'Like what you see? Visit the ' +\n",
              "            '<a target=\"_blank\" href=https://colab.research.google.com/notebooks/data_table.ipynb>data table notebook</a>'\n",
              "            + ' to learn more about interactive tables.';\n",
              "          element.innerHTML = '';\n",
              "          dataTable['output_type'] = 'display_data';\n",
              "          await google.colab.output.renderOutput(dataTable, element);\n",
              "          const docLink = document.createElement('div');\n",
              "          docLink.innerHTML = docLinkHtml;\n",
              "          element.appendChild(docLink);\n",
              "        }\n",
              "      </script>\n",
              "    </div>\n",
              "  </div>\n",
              "  "
            ]
          },
          "metadata": {},
          "execution_count": 49
        }
      ],
      "source": [
        "data_normalize=(insurance-insurance.min())/(insurance.max()-insurance.min())\n",
        "data_normalize.expenses = data_normalize.expenses*(insurance.expenses.max()-insurance.expenses.min())+insurance.expenses.min()\n",
        "data_normalize"
      ]
    },
    {
      "cell_type": "code",
      "execution_count": null,
      "metadata": {
        "colab": {
          "base_uri": "https://localhost:8080/"
        },
        "id": "mGQ8224VhBkk",
        "outputId": "4c115f39-40b8-47fc-be72-16f37f1b22db"
      },
      "outputs": [
        {
          "output_type": "stream",
          "name": "stdout",
          "text": [
            "           age  sex       bmi  children  smoker    region\n",
            "1047  0.543478  0.0  0.245283       0.0     0.0  0.000000\n",
            "683   0.456522  1.0  0.520216       0.4     1.0  0.666667\n",
            "1038  0.586957  0.0  0.390836       0.2     1.0  1.000000\n",
            "491   0.021739  0.0  0.455526       0.0     0.0  0.666667\n",
            "40    0.913043  1.0  0.644205       0.0     1.0  0.666667\n",
            "...        ...  ...       ...       ...     ...       ...\n",
            "1096  0.000000  0.0  0.415094       0.8     0.0  0.000000\n",
            "1131  0.456522  0.0  0.212938       1.0     0.0  0.333333\n",
            "1295  0.869565  1.0  0.247978       0.0     0.0  0.000000\n",
            "861   0.413043  0.0  0.851752       0.4     1.0  0.666667\n",
            "1127  0.804348  1.0  0.374663       0.0     0.0  0.666667\n",
            "\n",
            "[896 rows x 6 columns]\n",
            "1047     7325.05\n",
            "683     40103.89\n",
            "1038    39725.52\n",
            "491      1748.77\n",
            "40      48173.36\n",
            "          ...   \n",
            "1096     4561.19\n",
            "1131     8582.30\n",
            "1295    11931.13\n",
            "861     46113.51\n",
            "1127    10214.64\n",
            "Name: expenses, Length: 896, dtype: float64\n"
          ]
        }
      ],
      "source": [
        "feature_cols = ['age', 'sex', 'bmi', 'children', 'smoker', 'region']\n",
        "X = data_normalize[feature_cols]\n",
        "y = data_normalize['expenses']\n",
        "from sklearn.model_selection import train_test_split\n",
        "X_train, X_test, y_train, y_test = train_test_split(X, y, test_size=0.33, random_state=42)\n",
        "print(X_train)\n",
        "print(y_train)"
      ]
    },
    {
      "cell_type": "code",
      "execution_count": null,
      "metadata": {
        "colab": {
          "base_uri": "https://localhost:8080/",
          "height": 637
        },
        "id": "eg30A34hkBPv",
        "outputId": "0d08cc2d-4ac4-4fca-e8a2-c7a7b3172235"
      },
      "outputs": [
        {
          "output_type": "stream",
          "name": "stdout",
          "text": [
            " k = 1 Mean Squared Error =  53065763.04598145\n",
            " k = 2 Mean Squared Error =  38429920.87057336\n",
            " k = 3 Mean Squared Error =  35770129.417896725\n",
            " k = 4 Mean Squared Error =  34116611.11749678\n",
            " k = 5 Mean Squared Error =  31823845.88272604\n",
            " k = 6 Mean Squared Error =  31670898.99115567\n",
            " k = 7 Mean Squared Error =  31533111.452649564\n",
            " k = 8 Mean Squared Error =  31383894.99210778\n",
            " k = 9 Mean Squared Error =  31368182.908007868\n",
            " k = 10 Mean Squared Error =  31377609.408402044\n",
            " k = 11 Mean Squared Error =  31282387.833133336\n",
            " k = 12 Mean Squared Error =  31402480.416546997\n",
            " k = 13 Mean Squared Error =  31301859.59992273\n",
            " k = 14 Mean Squared Error =  31352218.161025718\n",
            " k = 15 Mean Squared Error =  31420190.57583491\n",
            " k = 16 Mean Squared Error =  31248180.7992312\n",
            " k = 17 Mean Squared Error =  31356729.901576087\n",
            " k = 18 Mean Squared Error =  31766588.88219589\n",
            " k = 19 Mean Squared Error =  31829451.20101201\n",
            " k = 20 Mean Squared Error =  31928735.85852446\n"
          ]
        },
        {
          "output_type": "display_data",
          "data": {
            "text/plain": [
              "<Figure size 432x288 with 1 Axes>"
            ],
            "image/png": "[encoded data removed]"
          },
          "metadata": {
            "needs_background": "light"
          }
        }
      ],
      "source": [
        "from sklearn.metrics import mean_squared_error, r2_score\n",
        "import numpy as np\n",
        "\n",
        "distance = []\n",
        "from sklearn.neighbors import KNeighborsRegressor\n",
        "for i in range(20):\n",
        "    knn_model = KNeighborsRegressor(n_neighbors=i+1, weights='distance').fit(X_train, y_train)\n",
        "    predicted_values = knn_model.predict(X_test)\n",
        "    predict_df = pd.DataFrame({\"Dependent_Test\" : y_test, \"Dependent_Predicted\" : predicted_values})\n",
        "    mse_knn_distance = mean_squared_error(predict_df.Dependent_Predicted, predict_df.Dependent_Test)\n",
        "    print(\" k = \" + str(i+1) + \" Mean Squared Error = \", mean_squared_error(predict_df.Dependent_Predicted, predict_df.Dependent_Test))\n",
        "    distance.append(mean_squared_error(predict_df.Dependent_Predicted, predict_df.Dependent_Test))\n",
        "x = [1,2,3,4,5,6,7,8,9,10,11,12,13,14,15,16,17,18,19,20]\n",
        "plt.plot(x ,distance)\n",
        "plt.xlabel(\"k\")\n",
        "plt.ylabel('MSE_distance')\n",
        "plt.show()\n"
      ]
    },
    {
      "cell_type": "code",
      "execution_count": null,
      "metadata": {
        "colab": {
          "base_uri": "https://localhost:8080/",
          "height": 637
        },
        "id": "ndkR2IsykztL",
        "outputId": "c217e38e-c597-4916-9361-c0375d58f5b5"
      },
      "outputs": [
        {
          "output_type": "stream",
          "name": "stdout",
          "text": [
            " k = 1 Mean Squared Error =  53065763.04598145\n",
            " k = 2 Mean Squared Error =  38042367.78250453\n",
            " k = 3 Mean Squared Error =  35908526.68004528\n",
            " k = 4 Mean Squared Error =  34227834.6576583\n",
            " k = 5 Mean Squared Error =  31498814.653729822\n",
            " k = 6 Mean Squared Error =  32205417.067615837\n",
            " k = 7 Mean Squared Error =  32389665.124796905\n",
            " k = 8 Mean Squared Error =  32093291.800788414\n",
            " k = 9 Mean Squared Error =  32430243.773172826\n",
            " k = 10 Mean Squared Error =  32309731.233598467\n",
            " k = 11 Mean Squared Error =  32210565.310166385\n",
            " k = 12 Mean Squared Error =  32446630.906307306\n",
            " k = 13 Mean Squared Error =  32212489.327658597\n",
            " k = 14 Mean Squared Error =  32309786.269701935\n",
            " k = 15 Mean Squared Error =  32618616.29997275\n",
            " k = 16 Mean Squared Error =  32290722.45685165\n",
            " k = 17 Mean Squared Error =  32534336.981490456\n",
            " k = 18 Mean Squared Error =  33129731.521547344\n",
            " k = 19 Mean Squared Error =  33223732.84940244\n",
            " k = 20 Mean Squared Error =  33438046.914222553\n"
          ]
        },
        {
          "output_type": "display_data",
          "data": {
            "text/plain": [
              "<Figure size 432x288 with 1 Axes>"
            ],
            "image/png": "[encoded data removed]"
          },
          "metadata": {
            "needs_background": "light"
          }
        }
      ],
      "source": [
        "import matplotlib.pyplot as plt\n",
        "from sklearn.metrics import mean_squared_error, r2_score\n",
        "import numpy as np\n",
        "uniform = []\n",
        "\n",
        "\n",
        "from sklearn.neighbors import KNeighborsRegressor\n",
        "for i in range(20):\n",
        "    knn_model = KNeighborsRegressor(n_neighbors=i+1, weights='uniform').fit(X_train, y_train)\n",
        "    predicted_values = knn_model.predict(X_test)\n",
        "    predict_df = pd.DataFrame({\"Dependent_Test\" : y_test, \"Dependent_Predicted\" : predicted_values})\n",
        "    print(\" k = \" + str(i+1) + \" Mean Squared Error = \", mean_squared_error(predict_df.Dependent_Predicted, predict_df.Dependent_Test))\n",
        "    uniform.append(mean_squared_error(predict_df.Dependent_Predicted, predict_df.Dependent_Test))\n",
        "    \n",
        "x = [1,2,3,4,5,6,7,8,9,10,11,12,13,14,15,16,17,18,19,20]\n",
        "\n",
        "plt.plot(x,uniform)\n",
        "plt.xlabel(\"k\")\n",
        "plt.ylabel('MSE_uniform')\n",
        "plt.show()\n"
      ]
    },
    {
      "cell_type": "code",
      "execution_count": null,
      "metadata": {
        "id": "ADuWbUcNN7ja"
      },
      "outputs": [],
      "source": [
        "def myweight(distances):\n",
        "    sigma2 = .5 # we can change this number\n",
        "    return np.exp(-distances**2/sigma2)"
      ]
    },
    {
      "cell_type": "code",
      "execution_count": null,
      "metadata": {
        "colab": {
          "base_uri": "https://localhost:8080/",
          "height": 637
        },
        "id": "uq6kDM3nN7jb",
        "outputId": "cba556a2-16cc-4362-852d-df582fa8b6df"
      },
      "outputs": [
        {
          "output_type": "stream",
          "name": "stdout",
          "text": [
            "k = 1 Mean Squared Error = 53065763.04598145\n",
            "k = 2 Mean Squared Error = 38011048.43328441\n",
            "k = 3 Mean Squared Error = 35662089.86022105\n",
            "k = 4 Mean Squared Error = 34027134.42784079\n",
            "k = 5 Mean Squared Error = 31391914.387356162\n",
            "k = 6 Mean Squared Error = 31924263.27721453\n",
            "k = 7 Mean Squared Error = 32016307.118170474\n",
            "k = 8 Mean Squared Error = 31741571.43304474\n",
            "k = 9 Mean Squared Error = 31997316.293077555\n",
            "k = 10 Mean Squared Error = 31862919.814388603\n",
            "k = 11 Mean Squared Error = 31746179.071303304\n",
            "k = 12 Mean Squared Error = 31963437.421295095\n",
            "k = 13 Mean Squared Error = 31780296.582390584\n",
            "k = 14 Mean Squared Error = 31847185.817179296\n",
            "k = 15 Mean Squared Error = 32063917.374859188\n",
            "k = 16 Mean Squared Error = 31746795.251352794\n",
            "k = 17 Mean Squared Error = 31896314.03159528\n",
            "k = 18 Mean Squared Error = 32386677.615855455\n",
            "k = 19 Mean Squared Error = 32450997.881735675\n",
            "k = 20 Mean Squared Error = 32606764.67889999\n"
          ]
        },
        {
          "output_type": "display_data",
          "data": {
            "text/plain": [
              "<Figure size 432x288 with 1 Axes>"
            ],
            "image/png": "[encoded data removed]"
          },
          "metadata": {
            "needs_background": "light"
          }
        }
      ],
      "source": [
        "from sklearn.metrics import mean_squared_error, r2_score\n",
        "import numpy as np\n",
        "\n",
        "myweightt = []\n",
        "from sklearn.neighbors import KNeighborsRegressor\n",
        "for i in range(20):\n",
        "    knn_model = KNeighborsRegressor(n_neighbors=i+1, weights=myweight).fit(X_train, y_train)\n",
        "    predicted_values = knn_model.predict(X_test)\n",
        "    predict_df = pd.DataFrame({\"Dependent_Test\" : y_test, \"Dependent_Predicted\" : predicted_values})\n",
        "    mse_knn_myweight = mean_squared_error(predict_df.Dependent_Predicted, predict_df.Dependent_Test)\n",
        "    print(\"k = \" + str(i + 1) + \" Mean Squared Error = \" + str(mse_knn_myweight))\n",
        "    myweightt.append(mean_squared_error(predict_df.Dependent_Predicted, predict_df.Dependent_Test))\n",
        "x = [1,2,3,4,5,6,7,8,9,10,11,12,13,14,15,16,17,18,19,20]\n",
        "plt.plot(x,myweightt)\n",
        "plt.xlabel(\"k\")\n",
        "plt.ylabel('MSE_myweight')\n",
        "plt.show()\n"
      ]
    },
    {
      "cell_type": "code",
      "execution_count": null,
      "metadata": {
        "id": "U8_8sS_EN7jc",
        "outputId": "0c7f9ce6-2502-4a30-cc7e-d0220b3fd8f4",
        "colab": {
          "base_uri": "https://localhost:8080/",
          "height": 276
        }
      },
      "outputs": [
        {
          "output_type": "display_data",
          "data": {
            "text/plain": [
              "<Figure size 432x288 with 1 Axes>"
            ],
            "image/png": "[encoded data removed]"
          },
          "metadata": {
            "needs_background": "light"
          }
        }
      ],
      "source": [
        "fig, ax = plt.subplots()\n",
        "\n",
        "ax.plot(distance, color = 'green', label = 'distance')\n",
        "ax.plot(uniform , color = 'red', label = 'uniform')\n",
        "ax.plot(myweightt , color = 'blue', label = 'myweight')\n",
        "ax.legend(loc = 'upper left')\n",
        "plt.show()"
      ]
    },
    {
      "cell_type": "code",
      "execution_count": null,
      "metadata": {
        "colab": {
          "base_uri": "https://localhost:8080/"
        },
        "id": "7Wix32MTN7jd",
        "outputId": "31655416-eb19-4338-ace4-63901189e9b9"
      },
      "outputs": [
        {
          "output_type": "execute_result",
          "data": {
            "text/plain": [
              "35346221.74168071"
            ]
          },
          "metadata": {},
          "execution_count": 56
        }
      ],
      "source": [
        "from sklearn.linear_model import LinearRegression\n",
        "\n",
        "feature_cols = ['age', 'sex', 'bmi', 'children', 'smoker', 'region']\n",
        "X = insurance[feature_cols]\n",
        "y = insurance['expenses']\n",
        "from sklearn.model_selection import train_test_split\n",
        "X_train, X_test, y_train, y_test = train_test_split(X, y, test_size=0.33, random_state=42)\n",
        "reg = LinearRegression().fit(X_train, y_train)\n",
        "check = reg.predict(X_test)\n",
        "mse = np.mean(np.square(y_test - check))\n",
        "mse"
      ]
    },
    {
      "cell_type": "code",
      "execution_count": null,
      "metadata": {
        "id": "bu9s5JTcN7je"
      },
      "outputs": [],
      "source": [
        "from sklearn import preprocessing\n",
        "sx = preprocessing.MinMaxScaler()\n",
        "sy = preprocessing.MinMaxScaler()\n",
        "\n",
        "scaled_X = sx.fit_transform(X_train)\n",
        "scaled_y = y_train.T\n",
        "\n",
        "def batch_gradient_descent(X, y_true, epochs, learning_rate=0.01):\n",
        "    number_of_features = X.shape[1]\n",
        "\n",
        "    w = np.ones(shape=(number_of_features))\n",
        "    b = 0\n",
        "    total_samples = X.shape[0]\n",
        "\n",
        "    cost_list = []\n",
        "    episode_list = []\n",
        "\n",
        "    for i in range(epochs):\n",
        "        y_predicted = np.dot(w, X.T) + b\n",
        "\n",
        "        w_grad = -(2 / total_samples) * (X.T.dot(y_true - y_predicted))\n",
        "        b_grad = -(2 / total_samples) * np.sum(y_true - y_predicted)\n",
        "\n",
        "        w = w - learning_rate * w_grad\n",
        "        b = b - learning_rate * b_grad\n",
        "\n",
        "        cost = np.mean(np.square(y_true - y_predicted))\n",
        "\n",
        "        if i % 100 == 0:\n",
        "            cost_list.append(cost)\n",
        "            episode_list.append(i)\n",
        "\n",
        "    return w, b, cost, cost_list, episode_list\n",
        "\n",
        "\n",
        "w, b, cost, cost_list, episode_list = batch_gradient_descent(scaled_X, scaled_y.T, 10000)\n",
        "\n"
      ]
    },
    {
      "cell_type": "code",
      "execution_count": null,
      "metadata": {
        "colab": {
          "base_uri": "https://localhost:8080/"
        },
        "id": "cYNlIZfgN7jf",
        "outputId": "1cef8c4a-cf08-4e53-d828-99db14ec32cd"
      },
      "outputs": [
        {
          "output_type": "execute_result",
          "data": {
            "text/plain": [
              "[325449302.2497156,\n",
              " 89359971.87289903,\n",
              " 66779612.400212206,\n",
              " 54776569.774856605,\n",
              " 48245622.81303139,\n",
              " 44589814.562832855,\n",
              " 42467064.80177086,\n",
              " 41177889.55778551,\n",
              " 40353679.74664389,\n",
              " 39797347.38520874,\n",
              " 39401488.79323436,\n",
              " 39106125.820200935,\n",
              " 38876733.34930392,\n",
              " 38692712.07389247,\n",
              " 38541269.607471295,\n",
              " 38414122.04198794,\n",
              " 38305680.24698026,\n",
              " 38212027.50190395,\n",
              " 38130325.77128654,\n",
              " 38058459.019894965,\n",
              " 37994811.010438584,\n",
              " 37938121.74278059,\n",
              " 37887391.46360864,\n",
              " 37841814.49363754,\n",
              " 37800732.41079322,\n",
              " 37763600.21148817,\n",
              " 37729961.42289126,\n",
              " 37699429.5356964,\n",
              " 37671673.985414945,\n",
              " 37646409.45656588,\n",
              " 37623387.64346471,\n",
              " 37602390.84469273,\n",
              " 37583226.93733198,\n",
              " 37565725.39679377,\n",
              " 37549734.114254884,\n",
              " 37535116.826495185,\n",
              " 37521751.019085065,\n",
              " 37509526.19802878,\n",
              " 37498342.45038742,\n",
              " 37488109.233398035,\n",
              " 37478744.3458464,\n",
              " 37470173.04615896,\n",
              " 37462327.289761566,\n",
              " 37455145.06436336,\n",
              " 37448569.80646008,\n",
              " 37442549.88588713,\n",
              " 37437038.14794812,\n",
              " 37431991.504718624,\n",
              " 37427370.568723805,\n",
              " 37423139.32342811,\n",
              " 37419264.825942926,\n",
              " 37415716.93812092,\n",
              " 37412468.08280708,\n",
              " 37409493.02250034,\n",
              " 37406768.658066615,\n",
              " 37404273.84546242,\n",
              " 37401989.228687234,\n",
              " 37399897.0873996,\n",
              " 37397981.19781345,\n",
              " 37396226.70564453,\n",
              " 37394620.01000877,\n",
              " 37393148.65728708,\n",
              " 37391801.24407105,\n",
              " 37390567.328388266,\n",
              " 37389437.34848498,\n",
              " 37388402.548507996,\n",
              " 37387454.9104916,\n",
              " 37386587.09210648,\n",
              " 37385792.36967642,\n",
              " 37385064.58601426,\n",
              " 37384398.10266508,\n",
              " 37383787.75618251,\n",
              " 37383228.81809633,\n",
              " 37382716.958256885,\n",
              " 37382248.21127247,\n",
              " 37381818.94577617,\n",
              " 37381425.836284354,\n",
              " 37381065.8374271,\n",
              " 37380736.160350636,\n",
              " 37380434.25110836,\n",
              " 37380157.77087281,\n",
              " 37379904.5778152,\n",
              " 37379672.71051072,\n",
              " 37379460.372743286,\n",
              " 37379265.91958932,\n",
              " 37379087.84467397,\n",
              " 37378924.76850183,\n",
              " 37378775.4277691,\n",
              " 37378638.66557736,\n",
              " 37378513.42247081,\n",
              " 37378398.72822921,\n",
              " 37378293.69435137,\n",
              " 37378197.50717224,\n",
              " 37378109.42155962,\n",
              " 37378028.75514179,\n",
              " 37377954.88302133,\n",
              " 37377887.23293417,\n",
              " 37377825.28081641,\n",
              " 37377768.546744525,\n",
              " 37377716.59121791]"
            ]
          },
          "metadata": {},
          "execution_count": 21
        }
      ],
      "source": [
        "cost_list"
      ]
    },
    {
      "cell_type": "code",
      "execution_count": null,
      "metadata": {
        "colab": {
          "base_uri": "https://localhost:8080/",
          "height": 307
        },
        "id": "Zf_GjfJ6N7jf",
        "outputId": "040f48f4-c45f-487a-cd86-417303b47711"
      },
      "outputs": [
        {
          "output_type": "execute_result",
          "data": {
            "text/plain": [
              "[<matplotlib.lines.Line2D at 0x7f4aa037fc50>]"
            ]
          },
          "metadata": {},
          "execution_count": 58
        },
        {
          "output_type": "display_data",
          "data": {
            "text/plain": [
              "<Figure size 432x288 with 1 Axes>"
            ],
            "image/png": "[encoded data removed]"
          },
          "metadata": {
            "needs_background": "light"
          }
        }
      ],
      "source": [
        "plt.xlabel(\"episode\")\n",
        "plt.ylabel(\"MSE\")\n",
        "plt.plot(episode_list, cost_list\n",
        "         )\n"
      ]
    },
    {
      "cell_type": "code",
      "source": [
        "\n",
        "KNN = [31282387.833133336]\n",
        "LR_skl = [35346221.74168073]\n",
        "LR = [35368757.56319109]\n",
        "index = ['---------------------']\n",
        "df = pd.DataFrame({'KNN': KNN,\n",
        "                   'LR_skl': LR_skl,\n",
        "                   'LR': LR}, index=index)\n",
        "ax = df.plot.bar(rot=0)"
      ],
      "metadata": {
        "colab": {
          "base_uri": "https://localhost:8080/",
          "height": 276
        },
        "id": "clcO7ivnYaZc",
        "outputId": "7770a83e-7f28-4cd2-df23-0f06b36cc4d6"
      },
      "execution_count": null,
      "outputs": [
        {
          "output_type": "display_data",
          "data": {
            "text/plain": [
              "<Figure size 432x288 with 1 Axes>"
            ],
            "image/png": "[encoded data removed]"
          },
          "metadata": {
            "needs_background": "light"
          }
        }
      ]
    },
    {
      "cell_type": "code",
      "source": [
        "import numpy as np\n",
        "import matplotlib.pyplot as plt\n",
        "from sklearn.neighbors import LocalOutlierFactor\n",
        "import seaborn as sns\n",
        "import pandas as pd\n",
        "\n",
        "x = []\n",
        "clf = LocalOutlierFactor(n_neighbors=50, contamination=0.02)\n",
        "\n",
        "\n",
        "X = np.array(X)\n",
        "y = np.array(y)\n",
        "print(X)\n",
        "print(y)\n",
        "# y_pred = clf.fit_predict(x)\n",
        "# j = []\n",
        "# mc = []\n",
        "# lb = []\n",
        "# for i in range(len(y_pred)):\n",
        "#   if y_pred[i]==-1:\n",
        "#     print(i)\n"
      ],
      "metadata": {
        "id": "G9ezedMdZ4Yo",
        "colab": {
          "base_uri": "https://localhost:8080/"
        },
        "outputId": "e3ce36fe-8db8-4971-b6e5-010d149b1a9f"
      },
      "execution_count": null,
      "outputs": [
        {
          "output_type": "stream",
          "name": "stdout",
          "text": [
            "[[19.   0.  27.9  0.   1.   2. ]\n",
            " [18.   1.  33.8  1.   0.   1. ]\n",
            " [28.   1.  33.   3.   0.   1. ]\n",
            " ...\n",
            " [18.   0.  36.9  0.   0.   1. ]\n",
            " [21.   0.  25.8  0.   0.   2. ]\n",
            " [61.   0.  29.1  0.   1.   3. ]]\n",
            "[16884.92  1725.55  4449.46 ...  1629.83  2007.95 29141.36]\n"
          ]
        }
      ]
    },
    {
      "cell_type": "code",
      "source": [
        "import statsmodels.api as sm\n",
        "\n",
        "#define response variable\n",
        "y = y\n",
        "\n",
        "#define explanatory variable\n",
        "x = X\n",
        "\n",
        "#add constant to predictor variables\n",
        "x = sm.add_constant(x)\n",
        "\n",
        "#fit linear regression model\n",
        "model = sm.OLS(y, x).fit() \n",
        "print((model.outlier_test())[0])"
      ],
      "metadata": {
        "colab": {
          "base_uri": "https://localhost:8080/"
        },
        "id": "qsWeCt01wkMa",
        "outputId": "76c40347-5d69-4f27-f052-e44f3ccc1e8d"
      },
      "execution_count": null,
      "outputs": [
        {
          "output_type": "stream",
          "name": "stderr",
          "text": [
            "/usr/local/lib/python3.7/dist-packages/statsmodels/tools/_testing.py:19: FutureWarning: pandas.util.testing is deprecated. Use the functions in the public API at pandas.testing instead.\n",
            "  import pandas.util.testing as tm\n"
          ]
        },
        {
          "output_type": "stream",
          "name": "stdout",
          "text": [
            "[-1.44101831  0.14981489  1.        ]\n"
          ]
        }
      ]
    },
    {
      "cell_type": "code",
      "source": [
        "#suppress scientific notation\n",
        "import numpy as np\n",
        "np.set_printoptions(suppress=True)\n",
        "\n",
        "#create instance of influence\n",
        "influence = model.get_influence()\n",
        "\n",
        "#obtain Cook's distance for each observation\n",
        "cooks = influence.cooks_distance"
      ],
      "metadata": {
        "id": "47PayLPq4wmb"
      },
      "execution_count": null,
      "outputs": []
    },
    {
      "cell_type": "code",
      "source": [
        "import seaborn as sns\n",
        "sns.displot(cooks[0])"
      ],
      "metadata": {
        "colab": {
          "base_uri": "https://localhost:8080/",
          "height": 386
        },
        "id": "fuP1iCGzGRKF",
        "outputId": "7188a06e-e796-4332-a3ee-d1bb001b345b"
      },
      "execution_count": null,
      "outputs": [
        {
          "output_type": "execute_result",
          "data": {
            "text/plain": [
              "<seaborn.axisgrid.FacetGrid at 0x7f4a9f4ef210>"
            ]
          },
          "metadata": {},
          "execution_count": 65
        },
        {
          "output_type": "display_data",
          "data": {
            "text/plain": [
              "<Figure size 360x360 with 1 Axes>"
            ],
            "image/png": "[encoded data removed]"
          },
          "metadata": {
            "needs_background": "light"
          }
        }
      ]
    },
    {
      "cell_type": "code",
      "source": [
        "#display Cook's distances\n",
        "j = 0\n",
        "noise = []\n",
        "k = []\n",
        "for i in range(len(cooks[1])):\n",
        "  if (cooks[0][i] > 0.004):\n",
        "    j = j + 1\n",
        "    noise.append(i)\n",
        "    print(i)\n",
        "print(\"________________\")\n",
        "print((j))"
      ],
      "metadata": {
        "colab": {
          "base_uri": "https://localhost:8080/"
        },
        "id": "SIGVGDDswy4n",
        "outputId": "990840ed-23ea-4e79-ef9e-f5b5481f066b"
      },
      "execution_count": null,
      "outputs": [
        {
          "output_type": "stream",
          "name": "stdout",
          "text": [
            "3\n",
            "9\n",
            "34\n",
            "62\n",
            "98\n",
            "99\n",
            "102\n",
            "115\n",
            "140\n",
            "219\n",
            "242\n",
            "250\n",
            "289\n",
            "321\n",
            "380\n",
            "387\n",
            "412\n",
            "430\n",
            "468\n",
            "488\n",
            "516\n",
            "520\n",
            "526\n",
            "543\n",
            "573\n",
            "577\n",
            "587\n",
            "599\n",
            "696\n",
            "806\n",
            "819\n",
            "936\n",
            "959\n",
            "980\n",
            "987\n",
            "994\n",
            "1008\n",
            "1012\n",
            "1019\n",
            "1027\n",
            "1039\n",
            "1047\n",
            "1085\n",
            "1100\n",
            "1142\n",
            "1146\n",
            "1195\n",
            "1206\n",
            "1230\n",
            "1258\n",
            "1300\n",
            "1317\n",
            "1328\n",
            "________________\n",
            "53\n"
          ]
        }
      ]
    },
    {
      "cell_type": "code",
      "source": [
        "newX = X\n",
        "newy = y\n",
        "for i in range(len(noise)):\n",
        "  newX = np.delete(newX, noise[len(noise)-i-1], 0)\n",
        "  newy = np.delete(newy, noise[len(noise)-i-1], 0)"
      ],
      "metadata": {
        "id": "IsiBKaRG84AM"
      },
      "execution_count": null,
      "outputs": []
    },
    {
      "cell_type": "code",
      "source": [
        "from sklearn.model_selection import train_test_split\n",
        "newX_train, newX_test, newy_train, newy_test = train_test_split(newX, newy, test_size=0.33, random_state=42)"
      ],
      "metadata": {
        "id": "l3c24IlEFe6H"
      },
      "execution_count": null,
      "outputs": []
    },
    {
      "cell_type": "code",
      "source": [
        "from sklearn.metrics import mean_squared_error, r2_score\n",
        "import numpy as np\n",
        "\n",
        "distance = []\n",
        "from sklearn.neighbors import KNeighborsRegressor\n",
        "for i in range(20):\n",
        "    knn_model = KNeighborsRegressor(n_neighbors=i+1, weights='distance').fit(newX_train, newy_train)\n",
        "    predicted_values = knn_model.predict(newX_test)\n",
        "    predict_df = pd.DataFrame({\"Dependent_Test\" : newy_test, \"Dependent_Predicted\" : predicted_values})\n",
        "    print(\" k = \" + str(i+1) + \" Mean Squared Error = \", mean_squared_error(predict_df.Dependent_Predicted, predict_df.Dependent_Test))\n",
        "    distance.append(mean_squared_error(predict_df.Dependent_Predicted, predict_df.Dependent_Test))\n",
        "x = [1,2,3,4,5,6,7,8,9,10,11,12,13,14,15,16,17,18,19,20]\n",
        "plt.plot(x ,distance)\n",
        "plt.xlabel(\"k\")\n",
        "plt.ylabel('MSE_distance')\n",
        "plt.show()\n"
      ],
      "metadata": {
        "colab": {
          "base_uri": "https://localhost:8080/",
          "height": 637
        },
        "id": "EXHuICSnFRvo",
        "outputId": "7c5eb090-aca2-45b1-87cf-0292839e5554"
      },
      "execution_count": null,
      "outputs": [
        {
          "output_type": "stream",
          "name": "stdout",
          "text": [
            " k = 1 Mean Squared Error =  162559792.1753033\n",
            " k = 2 Mean Squared Error =  123669792.50492594\n",
            " k = 3 Mean Squared Error =  115631548.37051891\n",
            " k = 4 Mean Squared Error =  110493907.22922434\n",
            " k = 5 Mean Squared Error =  109175249.82864644\n",
            " k = 6 Mean Squared Error =  108676494.69407354\n",
            " k = 7 Mean Squared Error =  109539479.34915389\n",
            " k = 8 Mean Squared Error =  108379709.51143658\n",
            " k = 9 Mean Squared Error =  110861187.0779541\n",
            " k = 10 Mean Squared Error =  110073838.94960566\n",
            " k = 11 Mean Squared Error =  107756132.52622907\n",
            " k = 12 Mean Squared Error =  108830509.92169635\n",
            " k = 13 Mean Squared Error =  109378992.98616183\n",
            " k = 14 Mean Squared Error =  107400836.55097125\n",
            " k = 15 Mean Squared Error =  107536547.71998787\n",
            " k = 16 Mean Squared Error =  108893222.71319139\n",
            " k = 17 Mean Squared Error =  109675979.90783606\n",
            " k = 18 Mean Squared Error =  109408996.46929456\n",
            " k = 19 Mean Squared Error =  109503687.86954173\n",
            " k = 20 Mean Squared Error =  109614700.57788561\n"
          ]
        },
        {
          "output_type": "display_data",
          "data": {
            "text/plain": [
              "<Figure size 432x288 with 1 Axes>"
            ],
            "image/png": "[encoded data removed]"
          },
          "metadata": {
            "needs_background": "light"
          }
        }
      ]
    },
    {
      "cell_type": "code",
      "source": [
        "from sklearn.metrics import mean_squared_error, r2_score\n",
        "import numpy as np\n",
        "\n",
        "uniform = []\n",
        "from sklearn.neighbors import KNeighborsRegressor\n",
        "for i in range(20):\n",
        "    knn_model = KNeighborsRegressor(n_neighbors=i+1, weights='uniform').fit(newX_train, newy_train)\n",
        "    predicted_values = knn_model.predict(newX_test)\n",
        "    predict_df = pd.DataFrame({\"Dependent_Test\" : newy_test, \"Dependent_Predicted\" : predicted_values})\n",
        "    print(\" k = \" + str(i+1) + \" Mean Squared Error = \", mean_squared_error(predict_df.Dependent_Predicted, predict_df.Dependent_Test))\n",
        "    uniform.append(mean_squared_error(predict_df.Dependent_Predicted, predict_df.Dependent_Test))\n",
        "x = [1,2,3,4,5,6,7,8,9,10,11,12,13,14,15,16,17,18,19,20]\n",
        "plt.plot(x ,uniform)\n",
        "plt.xlabel(\"k\")\n",
        "plt.ylabel('MSE_distance')\n",
        "plt.show()\n"
      ],
      "metadata": {
        "colab": {
          "base_uri": "https://localhost:8080/",
          "height": 637
        },
        "id": "TDmWKAxuIU9F",
        "outputId": "c0d5dac8-cd88-49ff-b0cc-af999a6e90d8"
      },
      "execution_count": null,
      "outputs": [
        {
          "output_type": "stream",
          "name": "stdout",
          "text": [
            " k = 1 Mean Squared Error =  162559792.1753033\n",
            " k = 2 Mean Squared Error =  124949695.3256077\n",
            " k = 3 Mean Squared Error =  117914008.16113162\n",
            " k = 4 Mean Squared Error =  112769401.81818919\n",
            " k = 5 Mean Squared Error =  112172740.2289039\n",
            " k = 6 Mean Squared Error =  111967025.04259665\n",
            " k = 7 Mean Squared Error =  112819053.46145895\n",
            " k = 8 Mean Squared Error =  111539345.81043372\n",
            " k = 9 Mean Squared Error =  114677623.35644065\n",
            " k = 10 Mean Squared Error =  113674978.24541286\n",
            " k = 11 Mean Squared Error =  110866752.19816744\n",
            " k = 12 Mean Squared Error =  112178256.796297\n",
            " k = 13 Mean Squared Error =  112858236.19845583\n",
            " k = 14 Mean Squared Error =  110121945.95049083\n",
            " k = 15 Mean Squared Error =  110384726.52344629\n",
            " k = 16 Mean Squared Error =  112145858.22209466\n",
            " k = 17 Mean Squared Error =  113189195.98248924\n",
            " k = 18 Mean Squared Error =  112656747.62734777\n",
            " k = 19 Mean Squared Error =  112672164.29750831\n",
            " k = 20 Mean Squared Error =  112659166.74299777\n"
          ]
        },
        {
          "output_type": "display_data",
          "data": {
            "text/plain": [
              "<Figure size 432x288 with 1 Axes>"
            ],
            "image/png": "[encoded data removed]"
          },
          "metadata": {
            "needs_background": "light"
          }
        }
      ]
    },
    {
      "cell_type": "code",
      "source": [
        "from sklearn.metrics import mean_squared_error, r2_score\n",
        "import numpy as np\n",
        "\n",
        "myweightt = []\n",
        "from sklearn.neighbors import KNeighborsRegressor\n",
        "for i in range(27):\n",
        "    knn_model = KNeighborsRegressor(n_neighbors=i+1, weights=myweight).fit(newX_train, newy_train)\n",
        "    predicted_values = knn_model.predict(newX_test)\n",
        "    predict_df = pd.DataFrame({\"Dependent_Test\" : newy_test, \"Dependent_Predicted\" : predicted_values})\n",
        "    print(\" k = \" + str(i+1) + \" Mean Squared Error = \", mean_squared_error(predict_df.Dependent_Predicted, predict_df.Dependent_Test))\n",
        "    myweightt.append(mean_squared_error(predict_df.Dependent_Predicted, predict_df.Dependent_Test))\n",
        "x = [1,2,3,4,5,6,7,8,9,10,11,12,13,14,15,16,17,18,19,20,21,22,23,24,25,26,27]\n",
        "plt.plot(x ,myweightt)\n",
        "plt.xlabel(\"k\")\n",
        "plt.ylabel('MSE_distance')\n",
        "plt.show()\n"
      ],
      "metadata": {
        "colab": {
          "base_uri": "https://localhost:8080/",
          "height": 759
        },
        "id": "q4Ln7QBIIaWO",
        "outputId": "e9af7cb2-a955-4c50-875c-77f70e412c70"
      },
      "execution_count": null,
      "outputs": [
        {
          "output_type": "stream",
          "name": "stdout",
          "text": [
            " k = 1 Mean Squared Error =  162559792.1753033\n",
            " k = 2 Mean Squared Error =  146712095.4809004\n",
            " k = 3 Mean Squared Error =  142838783.85885388\n",
            " k = 4 Mean Squared Error =  141640422.3430308\n",
            " k = 5 Mean Squared Error =  141278971.1192687\n",
            " k = 6 Mean Squared Error =  141161505.11988544\n",
            " k = 7 Mean Squared Error =  140948179.6906275\n",
            " k = 8 Mean Squared Error =  140542342.61929357\n",
            " k = 9 Mean Squared Error =  140546038.54333684\n",
            " k = 10 Mean Squared Error =  140475460.9749747\n",
            " k = 11 Mean Squared Error =  140469135.9610019\n",
            " k = 12 Mean Squared Error =  140469624.78043765\n",
            " k = 13 Mean Squared Error =  140470408.69456145\n",
            " k = 14 Mean Squared Error =  140470811.3712734\n",
            " k = 15 Mean Squared Error =  140464365.36169583\n",
            " k = 16 Mean Squared Error =  140464336.13713408\n",
            " k = 17 Mean Squared Error =  140459709.34431136\n",
            " k = 18 Mean Squared Error =  140459806.26131085\n",
            " k = 19 Mean Squared Error =  140457123.79592013\n",
            " k = 20 Mean Squared Error =  140457167.67624375\n",
            " k = 21 Mean Squared Error =  140457180.71698877\n",
            " k = 22 Mean Squared Error =  140457176.61608055\n",
            " k = 23 Mean Squared Error =  140457173.6113236\n",
            " k = 24 Mean Squared Error =  140457171.00316188\n",
            " k = 25 Mean Squared Error =  140457171.70730236\n",
            " k = 26 Mean Squared Error =  140457171.19669503\n",
            " k = 27 Mean Squared Error =  140457171.38674328\n"
          ]
        },
        {
          "output_type": "display_data",
          "data": {
            "text/plain": [
              "<Figure size 432x288 with 1 Axes>"
            ],
            "image/png": "[encoded data removed]"
          },
          "metadata": {
            "needs_background": "light"
          }
        }
      ]
    },
    {
      "cell_type": "code",
      "source": [
        "from sklearn.linear_model import LinearRegression\n",
        "\n",
        "\n",
        "from sklearn.model_selection import train_test_split\n",
        "\n",
        "reg = LinearRegression().fit(newX_train, newy_train)\n",
        "check = reg.predict(newX_test)\n",
        "mse = np.mean(np.square(newy_test - check))\n",
        "mse"
      ],
      "metadata": {
        "colab": {
          "base_uri": "https://localhost:8080/"
        },
        "id": "_M__svTdHW0v",
        "outputId": "af7b74eb-9cfe-40e7-b9a1-5c4313247cfd"
      },
      "execution_count": null,
      "outputs": [
        {
          "output_type": "execute_result",
          "data": {
            "text/plain": [
              "23219097.83224358"
            ]
          },
          "metadata": {},
          "execution_count": 114
        }
      ]
    },
    {
      "cell_type": "code",
      "source": [
        "fig, ax = plt.subplots()\n",
        "\n",
        "ax.plot(distance, color = 'green', label = 'distance')\n",
        "ax.plot(uniform , color = 'red', label = 'uniform')\n",
        "ax.plot(myweightt , color = 'blue', label = 'myweight')\n",
        "ax.legend(loc = 'upper left')\n",
        "plt.show()"
      ],
      "metadata": {
        "colab": {
          "base_uri": "https://localhost:8080/",
          "height": 276
        },
        "id": "gGExnZosDFZj",
        "outputId": "9e238ed4-e676-4e50-a9fa-8f68092814bd"
      },
      "execution_count": null,
      "outputs": [
        {
          "output_type": "display_data",
          "data": {
            "text/plain": [
              "<Figure size 432x288 with 1 Axes>"
            ],
            "image/png": "[encoded data removed]"
          },
          "metadata": {
            "needs_background": "light"
          }
        }
      ]
    }
  ],
  "metadata": {
    "colab": {
      "collapsed_sections": [],
      "name": "AI.ipynb",
      "provenance": []
    },
    "kernelspec": {
      "display_name": "Python 3",
      "name": "python3"
    },
    "language_info": {
      "codemirror_mode": {
        "name": "ipython",
        "version": 3
      },
      "file_extension": ".py",
      "mimetype": "text/x-python",
      "name": "python",
      "nbconvert_exporter": "python",
      "pygments_lexer": "ipython3",
      "version": "3.8.12"
    },
    "accelerator": "GPU",
    "gpuClass": "standard"
  },
  "nbformat": 4,
  "nbformat_minor": 0
}